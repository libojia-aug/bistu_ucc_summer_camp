{
 "cells": [
  {
   "cell_type": "markdown",
   "metadata": {},
   "source": [
    "\n",
    "# Python Summer Course 2018\n",
    "\n",
    "## Lecturer:\n",
    "\n",
    "Andreas Amann [a.amann@ucc.ie](mailto:a.amann@ucc.ie)\n",
    "\n",
    "## System Administrator:\n",
    "\n",
    "Joe Scanlon [joe@ucc.ie](mailto:joe@ucc.ie)\n",
    "\n",
    "\n",
    "## Lectures:\n",
    "\n",
    "- Tue 24 August 2018 2pm-4pm WGB G34\n",
    "- Mon 30 August 2018 2pm-4pm WGB G34 \n",
    "\n",
    "\n",
    "## Tutorials: after the lectures 4pm-5pm\n",
    "\n"
   ]
  },
  {
   "cell_type": "markdown",
   "metadata": {},
   "source": [
    "# Course Outline\n",
    "\n",
    "## Lecture 1\n",
    "1. Introduction\n",
    "2. The Jupyter Environment\n",
    "3. Execution of Cells\n",
    "4. Python Variables\n",
    "    1. integers\n",
    "    2. floating points\n",
    "    3. strings\n",
    "5. Lists\n",
    "    1. append \n",
    "    1. indexing\n",
    "6. Control Structures\n",
    "    1. indentation\n",
    "    1. while loop\n",
    "    2. for loop\n",
    "    2. if else\n",
    "    2. Boolean expressions\n",
    "7. Functions\n",
    "    1. return statement\n",
    "    1. parameters\n",
    "\n",
    "## Tutorial 1\n",
    "\n",
    "1. Fibonacci numbers\n",
    "2. Find factors of integers\n",
    "3. Simple functions\n",
    "\n",
    "## Lecture 2\n",
    "\n",
    "1. external libraries\n",
    "2. matplotlib for simple plots\n",
    "3. pandas for data analytics\n",
    "4. time series\n",
    "5. tables\n",
    "6. import data files from Internet\n",
    "7. export data\n",
    "8. plot data\n",
    "9. access / manipulate columns of data\n",
    "10. statistical analysis of data sets\n",
    "\n",
    "## Tutorial 2\n",
    "\n",
    "1. analyze stock market data from internet\n",
    "2. correlation between data sets"
   ]
  },
  {
   "cell_type": "markdown",
   "metadata": {},
   "source": [
    "## Login into your computer\n",
    "\n",
    "\n",
    "- switch on the computer\n",
    "- `Ctrl-Alt-Del` \n",
    "- type as login id: `Newton11??` (replace ?? as per list)\n",
    "- type in the password \n",
    "\n",
    "this should log you in. If not, let us know. "
   ]
  },
  {
   "cell_type": "markdown",
   "metadata": {},
   "source": [
    "## Check that the Internet works\n",
    "\n",
    "Open the Firefox browser and check that you can connect to https://www.google.com. Internet should work by default.  If not, let us know. "
   ]
  },
  {
   "cell_type": "markdown",
   "metadata": {},
   "source": [
    "## Getting to know your environment\n",
    "\n",
    "- Click the start button and go to \"Computer\".\n",
    "- You should see two \"Network Locations\" which are of relevance for this course:\n",
    "    - `\\\\fermat\\public` which is mapped to the drive `P:` \n",
    "    - a drive `Z:`\n",
    "- open both the `Z:` and the `P:` drive (start button -> Computer)\n",
    "- the P: drive contains publically available information\n",
    "- one of the directories is called `python_summer_2018` on this drive `P:`.  \n",
    "- copy this directory over to your `Z:` drive. \n",
    "- the `Z:` drive is private to you. Everything you put in here should be saved and available, even if you log into one of the other computers. \n",
    "- now double-click the folder `python_summer_2018` in your **`Z:` drive** (not the `P:` drive!).\n",
    "- you should see a couple of files, in particular `jupyter.bat`.  Double-click this file. "
   ]
  },
  {
   "cell_type": "markdown",
   "metadata": {},
   "source": [
    "## Python\n",
    "\n",
    "In this module we will make use of the [Python](http://www.python.org) programming language. Python is a [popular](http://www.tiobe.com/index.php/content/paperinfo/tpci/index.html) (see [also](https://spectrum.ieee.org/computing/software/the-2017-top-programming-languages)) general purpose programming language. It is [open-source](https://en.wikipedia.org/wiki/Open-source_software) and freely available for many operating systems. \n",
    "\n",
    "If you use [Linux](https://en.wikipedia.org/wiki/Linux) or Mac, Python might be preinstalled already on your computer. Here on the lab computers, (which run Windows 7) we have [Anaconda](https://store.continuum.io/cshop/anaconda/) which bundles Python with many other useful tools and libraries and sets us up for scientific computing. Anaconda is free and runs on Linux, Mac and Windows. \n",
    "\n",
    "To follow this course it is recommended that you install Anaconda on your own computer.  You can download from [this link](http://continuum.io/downloads).  Make sure that you get the Python 3 (more precisely Python 3.6). There is a choice of *64-Bit* and *32-Bit*, which refers to your processor's architecture. The majority of recently sold notebooks and desktop computers would be 64bit. If you run into problems installing Anaconda, feel free to contact me. "
   ]
  },
  {
   "cell_type": "markdown",
   "metadata": {},
   "source": [
    "# The Jupyter  environment\n",
    "\n",
    "Our interface to Python is through [Jupyter](https://jupyter.org/).  Like everything else we use in this course, Jupyter is already contained in the Anaconda bundle, and there is no need to install it separately. "
   ]
  },
  {
   "cell_type": "markdown",
   "metadata": {},
   "source": [
    "## Starting Jupyter\n",
    "\n",
    "In order to start *Jupyter*, double-click the \"jupyter.bat\" file in **your** AM1054 directory.  The first time you do this, it will take quite a long time until something happens. But if everything worked out well, you should see a web browser window popping up. \n",
    "\n",
    "It is important in which directory the script \"jupyter.bat\" resides, when you start it. You will only be able to access files in this directory from within `Jupyter`.\n",
    "\n",
    "This jupyter.bat file is a script which consists of two lines:\n",
    "\n",
    "    @SET PATH=%PATH%;C:\\Program Files\\Mozilla Firefox\\\n",
    "    C:\\ProgramData\\Anaconda3\\Scripts\\jupyter notebook --browser=firefox\n",
    "\n",
    "If you install Anaconda on your computer, you can use a similar script. Depending on where you have installed Anaconda, you might however need to change the `C:ProgrammData\\Anaconda3` part of the script accordingly.  Also, if you prefer `chrome` over firefox, you can change `--browser=firefox` into `--browser=chrome`.  (You can also use other browsers, but it seems that `InternetExplorer` is not well supported.)\n",
    "\n",
    "\n",
    "### Command Line way of starting Jupyter\n",
    "\n",
    "This is only needed if the above script does not work for some reason. \n",
    "\n",
    "3. open the anaconda commandline (on windows, open \"start menu\"->\"All Programs\"->\"Anaconda\"->\"Anaconda Commandline\"; on Linux/Mac open any terminal)\n",
    "4. change into the directory you created before by typing \n",
    "        Z:\n",
    "        cd AM1054\n",
    "5. type \n",
    "        jupyter notebook \n",
    "   \n",
    "   \n",
    "Note that it is important that you first change into the right directory before starting `jupyter notebook`.  "
   ]
  },
  {
   "cell_type": "markdown",
   "metadata": {},
   "source": [
    "## Test that `Jupyter` works\n",
    "\n",
    "6. In the browser window you should see (among other things) a \"New\" button. Click this button and select `Python 3` (or `Python 3 [root]`). This should give you a browser window with a prompt for python commands. \n",
    "7. Once you see this, type \n",
    "        print(\"Hello World!\")\n",
    "and then **Shift-Return** to execute the line. You should see the following:"
   ]
  },
  {
   "cell_type": "code",
   "execution_count": null,
   "metadata": {
    "collapsed": true
   },
   "outputs": [],
   "source": [
    "print(\"Hello World!\")"
   ]
  },
  {
   "cell_type": "markdown",
   "metadata": {},
   "source": [
    "What happens internally when you type `Shift-Return` is that the contents of the cell (i.e. `print(\"Hello World!\")`) is sent to a Python *Kernel* (Interpreter) and any output from the kernel is displayed below the cell. "
   ]
  },
  {
   "cell_type": "markdown",
   "metadata": {},
   "source": [
    "### Standard Editing features\n",
    "\n",
    "Take a bit of time to familiarize yourself with the interface. The most important key is the mentioned `Shift-Return` to execute a *cell* in python. Cell refers to the grey shaded area in which you can type. If you press Return without Shift, the cell you are in, gets expanded to add further lines (and the cell is not executed). Other standard editing, including `Ctrl-X` for cut, `Ctrl-V` for paste and `Ctrl-C` for copy also work. You can click into the above cell and try it out. \n"
   ]
  },
  {
   "cell_type": "markdown",
   "metadata": {},
   "source": [
    "### Command Mode and Editing mode\n",
    "\n",
    "You should notice that the currently active cell has a little frame around it. If you have an active coursor inside the cell, with which you can type in the cell, then this frame is **<font color='green'>green</font>**. A green frame means that you are in *editing mode* and you can move the coursor with the arrow keys as you would expect. If you press the `Esc` key (at top left of the keyboard) in editing mode you should see that the frame becomes **<font color='blue'>blue</font>** and **<font color='grey'>grey</font>** and the coursor disappears. A blue frame means that you are in *command mode*. In this mode you can move with the coursor key on a cell level. If you are in command mode you can press *return* to go back to editing mode.\n",
    "\n",
    "To summarize:\n",
    "- **blue** frame $=$ **Command** mode\n",
    "- **green** frame $=$ **Editing** mode\n",
    "- **Esc** $=$ leave editing mode and enter command mode\n",
    "- **Return** $=$ leave command mode and enter editing mode"
   ]
  },
  {
   "cell_type": "markdown",
   "metadata": {},
   "source": [
    "### Using the python notebook as a calculator\n",
    "\n",
    "python can do simple calculations in a way you would expect:"
   ]
  },
  {
   "cell_type": "code",
   "execution_count": null,
   "metadata": {
    "collapsed": true
   },
   "outputs": [],
   "source": [
    "3+7"
   ]
  },
  {
   "cell_type": "code",
   "execution_count": null,
   "metadata": {
    "collapsed": true
   },
   "outputs": [],
   "source": [
    "3 + 2 * 5"
   ]
  },
  {
   "cell_type": "code",
   "execution_count": null,
   "metadata": {
    "collapsed": true
   },
   "outputs": [],
   "source": [
    "(3 + 2) * 5"
   ]
  },
  {
   "cell_type": "code",
   "execution_count": null,
   "metadata": {
    "collapsed": true
   },
   "outputs": [],
   "source": [
    "7^2"
   ]
  },
  {
   "cell_type": "code",
   "execution_count": null,
   "metadata": {
    "collapsed": true
   },
   "outputs": [],
   "source": [
    "7**2"
   ]
  },
  {
   "cell_type": "markdown",
   "metadata": {},
   "source": [
    "Okay, simple calculations and brackets work. To express \"To the power of\" the caret ^ did not seem to work, but \\*\\* does. We can also use variables, which will be useful in longer calculations:"
   ]
  },
  {
   "cell_type": "code",
   "execution_count": null,
   "metadata": {
    "collapsed": true
   },
   "outputs": [],
   "source": [
    "a = 3\n",
    "b = 7 \n",
    "c = a * (b + 3)"
   ]
  },
  {
   "cell_type": "markdown",
   "metadata": {},
   "source": [
    "Note that we put a number of commands in one cell, but there was no output at the end. If we put a variable name at the end of a cell, it's content gets printed"
   ]
  },
  {
   "cell_type": "code",
   "execution_count": null,
   "metadata": {
    "collapsed": true
   },
   "outputs": [],
   "source": [
    "c"
   ]
  },
  {
   "cell_type": "markdown",
   "metadata": {},
   "source": [
    "Also observe that the variable *c* which was defined in one cell, retains it's value in the subsequent cells. We can also print more explicitly:"
   ]
  },
  {
   "cell_type": "code",
   "execution_count": null,
   "metadata": {
    "collapsed": true
   },
   "outputs": [],
   "source": [
    "print(a)\n",
    "print(b)\n",
    "print(c)"
   ]
  },
  {
   "cell_type": "markdown",
   "metadata": {},
   "source": [
    "### Change the name of your document\n",
    "Close to the top of the notebook page you should see something like \"Untitled0\". This is a prelimianry title for the notebook you just generated. Click on it to change it to something more meaningful, for example \"MyFirstNotebook\". By default your documents are autosaved every two minutes. This means that you can simply close the current browser tab, and any work older than two minutes should not be lost. "
   ]
  },
  {
   "cell_type": "markdown",
   "metadata": {},
   "source": [
    "### more buttons\n",
    "\n",
    "Editing functionality is also available through the *Menu* or the *Toolbar*. Most entries should be self-explanatory and best learned by playing with them. Be sure to get familiar with the following interface features:\n",
    "\n",
    "- save\n",
    "- insert cell below\n",
    "- select a number of cells\n",
    "- cut cell(s)\n",
    "- paste cell(s)\n",
    "- move cell(s) up and down\n",
    "\n",
    "There are also a number of shortcut keys available, press `h` in command mode to see the full list.  There is no need to memorize them at this point, but they may make your editing more efficient as you progress. "
   ]
  },
  {
   "cell_type": "markdown",
   "metadata": {},
   "source": [
    "## Tab completion\n",
    "\n",
    "One particularly useful key is the *Tab* key, which is the big to the left of the letter `Q`.  You can use it to complete a partial command. Open for example a new cell and type \"pri\" + *Tab*. This should complete your partial command to \"print\". Similarly it type \"pr\" + *Tab* you should get a list of possible completions from which you can select. "
   ]
  },
  {
   "cell_type": "markdown",
   "metadata": {},
   "source": [
    "# Python Basics"
   ]
  },
  {
   "cell_type": "markdown",
   "metadata": {},
   "source": [
    "## Simple Variables in Python"
   ]
  },
  {
   "cell_type": "markdown",
   "metadata": {},
   "source": [
    "Above, we used variables like `a`, `b` or `c` to keep track of numbers. As you see the variable `a` came into existance by a simple assignment `a=3`. After this assignment, the variable `a` is of integer type. You can check this by"
   ]
  },
  {
   "cell_type": "code",
   "execution_count": null,
   "metadata": {
    "collapsed": true
   },
   "outputs": [],
   "source": [
    "a=3\n",
    "type(a)"
   ]
  },
  {
   "cell_type": "markdown",
   "metadata": {},
   "source": [
    "If you assign a different value with a decimal point, then you get"
   ]
  },
  {
   "cell_type": "code",
   "execution_count": null,
   "metadata": {
    "collapsed": true
   },
   "outputs": [],
   "source": [
    "b=3.0\n",
    "type(b)"
   ]
  },
  {
   "cell_type": "markdown",
   "metadata": {},
   "source": [
    "similarly you can have a piece of text (a \"string\") attached to a variable"
   ]
  },
  {
   "cell_type": "code",
   "execution_count": null,
   "metadata": {
    "collapsed": true
   },
   "outputs": [],
   "source": [
    "c=\"3.0\"\n",
    "type(c)"
   ]
  },
  {
   "cell_type": "markdown",
   "metadata": {},
   "source": [
    "Note, that both variables `b` and `c` have different types. Depending on the type of a variable, different operations are (or are not) possible. "
   ]
  },
  {
   "cell_type": "code",
   "execution_count": null,
   "metadata": {
    "collapsed": true
   },
   "outputs": [],
   "source": [
    "print(b**2)\n",
    "print(c**2)"
   ]
  },
  {
   "cell_type": "markdown",
   "metadata": {},
   "source": [
    "Here we got an error, which tells us that it makes no sense to square a string. It this therefore often useful to be able to convert between different types of variables. This conversion is done with the functions `str()`, `float()` and `int()`"
   ]
  },
  {
   "cell_type": "code",
   "execution_count": null,
   "metadata": {
    "collapsed": true
   },
   "outputs": [],
   "source": [
    "a = str(3.0)\n",
    "b = str(2)\n",
    "print(a+b)\n",
    "anum = float(a)\n",
    "bnum = int(b)\n",
    "anum + bnum"
   ]
  },
  {
   "cell_type": "markdown",
   "metadata": {},
   "source": [
    "### Variable names and tab completion\n",
    "\n",
    "Variables in `python` can either be single letters (upper or lowercase) or a letter followed by an arbitrary number of letters or numbers. The underscore sign `_` is also allowed, but other symbols (`+`, `:`, `[`, etc) or spaces are not allowed in variable names.  \n",
    "\n",
    "In general, it is advised to choose variable names to document the intended use of the variable.  Note that you can also use *tab completion* to complete your variable names which were defined earlier. For example consider a cell as follows:"
   ]
  },
  {
   "cell_type": "code",
   "execution_count": null,
   "metadata": {
    "collapsed": true
   },
   "outputs": [],
   "source": [
    "long_variable_name = 3\n",
    "long_variable_which_is_a_string = \"A string\""
   ]
  },
  {
   "cell_type": "markdown",
   "metadata": {},
   "source": [
    "After executing the cell, you can now use tab completion in a later cell to complete either variable name by typing the letters `lon` followed by the `tab` key. This will bring up a little menu from which you can choose one or the other option with the `up` and `down` keys and then `return`.  Try it out!"
   ]
  },
  {
   "cell_type": "markdown",
   "metadata": {},
   "source": [
    "## Lists"
   ]
  },
  {
   "cell_type": "markdown",
   "metadata": {},
   "source": [
    "Python variables can also contain lists of other objects. For example"
   ]
  },
  {
   "cell_type": "code",
   "execution_count": null,
   "metadata": {
    "collapsed": true
   },
   "outputs": [],
   "source": [
    "mylist = [1,5,3,8]"
   ]
  },
  {
   "cell_type": "markdown",
   "metadata": {},
   "source": [
    "after which the variable mylist contains all those numbers in the given order. We can for example plot them:"
   ]
  },
  {
   "cell_type": "code",
   "execution_count": null,
   "metadata": {
    "collapsed": true
   },
   "outputs": [],
   "source": [
    "%matplotlib inline\n",
    "import matplotlib.pyplot as plt\n",
    "plt.plot(mylist)"
   ]
  },
  {
   "cell_type": "markdown",
   "metadata": {},
   "source": [
    "(no worries, I will explain the details of this later in the course.)"
   ]
  },
  {
   "cell_type": "markdown",
   "metadata": {},
   "source": [
    "or simply output the list itself:"
   ]
  },
  {
   "cell_type": "code",
   "execution_count": null,
   "metadata": {
    "collapsed": true
   },
   "outputs": [],
   "source": [
    "mylist"
   ]
  },
  {
   "cell_type": "markdown",
   "metadata": {},
   "source": [
    "the variable `mylist` is of type `list` as we can easily check "
   ]
  },
  {
   "cell_type": "code",
   "execution_count": null,
   "metadata": {
    "collapsed": true
   },
   "outputs": [],
   "source": [
    "type(mylist)"
   ]
  },
  {
   "cell_type": "markdown",
   "metadata": {},
   "source": [
    "It is possible to access individual elements of the list as follows:"
   ]
  },
  {
   "cell_type": "code",
   "execution_count": null,
   "metadata": {
    "collapsed": true
   },
   "outputs": [],
   "source": [
    "mylist[1]"
   ]
  },
  {
   "cell_type": "markdown",
   "metadata": {},
   "source": [
    "but wait, is this what you expected? The first element in our list is a *1*, why did we get a *5* then? The reason is that python (like many other computer languages) starts counting at zero not at one! In order to get the first element in the list we therefore need to write "
   ]
  },
  {
   "cell_type": "code",
   "execution_count": null,
   "metadata": {
    "collapsed": true
   },
   "outputs": [],
   "source": [
    "mylist[0]"
   ]
  },
  {
   "cell_type": "markdown",
   "metadata": {},
   "source": [
    "We also often need to know the length of a list, which is simply"
   ]
  },
  {
   "cell_type": "code",
   "execution_count": null,
   "metadata": {
    "collapsed": true
   },
   "outputs": [],
   "source": [
    "len(mylist)"
   ]
  },
  {
   "cell_type": "markdown",
   "metadata": {},
   "source": [
    "Therefore in this case there are four elements in our list, namely mylist[0] up to mylist[3]"
   ]
  },
  {
   "cell_type": "markdown",
   "metadata": {},
   "source": [
    "Very often, you might need to access the last element of a list, which is done with the following notation:"
   ]
  },
  {
   "cell_type": "code",
   "execution_count": null,
   "metadata": {
    "collapsed": true
   },
   "outputs": [],
   "source": [
    "mylist[-1]"
   ]
  },
  {
   "cell_type": "markdown",
   "metadata": {},
   "source": [
    "similarly "
   ]
  },
  {
   "cell_type": "code",
   "execution_count": null,
   "metadata": {
    "collapsed": true
   },
   "outputs": [],
   "source": [
    "mylist[-2]"
   ]
  },
  {
   "cell_type": "markdown",
   "metadata": {},
   "source": [
    "gets you the element before the last one."
   ]
  },
  {
   "cell_type": "markdown",
   "metadata": {},
   "source": [
    "The most important operation which changes a list is to append an element at its end:"
   ]
  },
  {
   "cell_type": "code",
   "execution_count": null,
   "metadata": {
    "collapsed": true
   },
   "outputs": [],
   "source": [
    "mylist.append(-3)\n",
    "mylist"
   ]
  },
  {
   "cell_type": "markdown",
   "metadata": {},
   "source": [
    "Sometimes, we might also \"add\" two lists with `+`, which means that we simply concatenate them:"
   ]
  },
  {
   "cell_type": "code",
   "execution_count": null,
   "metadata": {
    "collapsed": true
   },
   "outputs": [],
   "source": [
    "mylist1 = [2,3]\n",
    "mylist2 = [7,10]\n",
    "\n",
    "mylist1 + mylist2"
   ]
  },
  {
   "cell_type": "markdown",
   "metadata": {},
   "source": [
    "## The `while` loop"
   ]
  },
  {
   "cell_type": "markdown",
   "metadata": {},
   "source": [
    "For example try to understand, what the following snippet of code does:"
   ]
  },
  {
   "cell_type": "code",
   "execution_count": null,
   "metadata": {
    "collapsed": true
   },
   "outputs": [],
   "source": [
    "fiblist = [0,1]\n",
    "\n",
    "fiblist.append( fiblist[-1] + fiblist[-2])\n",
    "fiblist.append( fiblist[-1] + fiblist[-2])\n",
    "fiblist.append( fiblist[-1] + fiblist[-2])\n",
    "fiblist.append( fiblist[-1] + fiblist[-2])\n",
    "fiblist.append( fiblist[-1] + fiblist[-2])\n",
    "\n",
    "fiblist"
   ]
  },
  {
   "cell_type": "markdown",
   "metadata": {},
   "source": [
    "This sequence is called the *Fibonacci Sequence*. What can we do, if we would like to calculate the first 15 elements of this sequence? Of course we could simply copy and paste the above lines often enough, but that would not be very elegant. Instead we make a little loop: "
   ]
  },
  {
   "cell_type": "code",
   "execution_count": null,
   "metadata": {
    "collapsed": true
   },
   "outputs": [],
   "source": [
    "fiblist = [0,1]\n",
    "\n",
    "while len(fiblist) < 15:\n",
    "    fiblist.append( fiblist[-1] + fiblist[-2])\n",
    "\n",
    "fiblist"
   ]
  },
  {
   "cell_type": "markdown",
   "metadata": {},
   "source": [
    "Let us look more closely at what has happened here. In the `while` line, we check if the length of the list is less than 15. If that is the case we execute the indented part which appends a new element to our list. This gets iterated as long as the condition in the while command is fulfilled. Note the use of indentation here. The end of the while loop is indicated by the lack of indentation in the \"fiblist\" line. Indentation is very important in python, and forces you to format your code in a well structured way. Consider for example the difference between the two following blocks of code: "
   ]
  },
  {
   "cell_type": "code",
   "execution_count": null,
   "metadata": {
    "collapsed": true
   },
   "outputs": [],
   "source": [
    "fiblist = [0,1]\n",
    "\n",
    "while len(fiblist) < 15:\n",
    "    fiblist.append( fiblist[-1] + fiblist[-2])\n",
    "    print(fiblist[-1])"
   ]
  },
  {
   "cell_type": "code",
   "execution_count": null,
   "metadata": {
    "collapsed": true
   },
   "outputs": [],
   "source": [
    "fiblist = [0,1]\n",
    "\n",
    "while len(fiblist) < 15:\n",
    "    fiblist.append( fiblist[-1] + fiblist[-2])\n",
    "print(fiblist[-1])"
   ]
  },
  {
   "cell_type": "markdown",
   "metadata": {},
   "source": [
    "Do you understand the difference between the two? The only difference is in the indentation of the *print* line. If this line is indented, it belongs to the while loop, if it is not indented, then it is executed *after* the while loop."
   ]
  },
  {
   "cell_type": "markdown",
   "metadata": {},
   "source": [
    "Before we go on, let us note a number of different ways of accessing parts of a list using indexing of the form `mylist[start:end:step]`. If we want to access a sublist of an existing list which consists of `k` elements and starts at index `start` we write `mylist[start:start+k]`.  We can also provide an optional step parameter, for example to only get every second element of the list we write `mylist[start:start+k:2]`. If `start` or `end` are left out, the lists are taken from the beginning or to the end, respectively. Try to understand the following syntax:"
   ]
  },
  {
   "cell_type": "code",
   "execution_count": null,
   "metadata": {
    "collapsed": true
   },
   "outputs": [],
   "source": [
    "print(fiblist)\n",
    "print(fiblist[1:4])\n",
    "print(fiblist[:4])\n",
    "print(fiblist[1:])\n",
    "print(fiblist[1::2])\n",
    "print(fiblist[-4:-1])\n",
    "print(fiblist[1:-1])\n",
    "print(fiblist[::-1])\n",
    "print(fiblist[-1:1:-1])"
   ]
  },
  {
   "cell_type": "markdown",
   "metadata": {},
   "source": [
    "We can also manipulate a list as follows:"
   ]
  },
  {
   "cell_type": "code",
   "execution_count": null,
   "metadata": {
    "collapsed": true
   },
   "outputs": [],
   "source": [
    "print(fiblist)\n",
    "fiblist[2]=8888\n",
    "print(fiblist)\n",
    "fiblist.pop()\n",
    "print(fiblist)\n",
    "fiblist.pop(3)\n",
    "print(fiblist)"
   ]
  },
  {
   "cell_type": "markdown",
   "metadata": {},
   "source": [
    "Another often used list consists of consecutive integers:"
   ]
  },
  {
   "cell_type": "code",
   "execution_count": null,
   "metadata": {
    "collapsed": true
   },
   "outputs": [],
   "source": [
    "mylist = list(range(7))\n",
    "print(mylist)"
   ]
  },
  {
   "cell_type": "markdown",
   "metadata": {},
   "source": [
    "Here the conversion function `list()` is used to convert the result of `range()` to a list. "
   ]
  },
  {
   "cell_type": "markdown",
   "metadata": {},
   "source": [
    "Similarly to the indexing notation, we can also give a start, stop and step parameter to the range function:"
   ]
  },
  {
   "cell_type": "code",
   "execution_count": null,
   "metadata": {
    "collapsed": true
   },
   "outputs": [],
   "source": [
    "print(list(range(2,15)))\n",
    "print(list(range(2,15,3)))\n",
    "print(list(range(15,2,-3)))"
   ]
  },
  {
   "cell_type": "markdown",
   "metadata": {},
   "source": [
    "## Control Structures"
   ]
  },
  {
   "cell_type": "markdown",
   "metadata": {},
   "source": [
    "We have already introduced the `while` loop, which is an example of a control structure. For this course, we will only need two other control structures, namely the `for` loop and the `if` `else` structure. Let us look at a simple example of a `for` loop:"
   ]
  },
  {
   "cell_type": "code",
   "execution_count": null,
   "metadata": {
    "collapsed": true
   },
   "outputs": [],
   "source": [
    "for i in range(10):\n",
    "    cube = i**3\n",
    "    print(\"The cube of \" + str(i) + \" is \" + str(cube))"
   ]
  },
  {
   "cell_type": "markdown",
   "metadata": {},
   "source": [
    "Note again how we used indentation to denote the scope of the `for` loop. Similar to the while loop, the indentation started after the colon (\":\") symbol. Note also that in this case, it is not necessary to write `list(range(10))`. Instead of `range(10)` you could of course also provide any list of numbers you are interested in knowing the cube of:"
   ]
  },
  {
   "cell_type": "code",
   "execution_count": null,
   "metadata": {
    "collapsed": true
   },
   "outputs": [],
   "source": [
    "for i in [2.3, 6, -3, 19]:\n",
    "    cube = i**3\n",
    "    print(\"The cube of \" + str(i) + \" is \" + str(cube))"
   ]
  },
  {
   "cell_type": "markdown",
   "metadata": {},
   "source": [
    "The last control structure we consider is the `if` and `else` statements. For example modifying the last example a bit, we can write:"
   ]
  },
  {
   "cell_type": "code",
   "execution_count": null,
   "metadata": {
    "collapsed": true
   },
   "outputs": [],
   "source": [
    "for i in [2.3, 6, -3, 19, 0]:\n",
    "    if i > 0:\n",
    "        print( str(i) + \" is bigger than zero\")\n",
    "    else: \n",
    "        print( str(i) + \" is not bigger than zero\")"
   ]
  },
  {
   "cell_type": "markdown",
   "metadata": {},
   "source": [
    "Note that here we tested for an inequality. We can also test for equality:"
   ]
  },
  {
   "cell_type": "code",
   "execution_count": null,
   "metadata": {
    "collapsed": true
   },
   "outputs": [],
   "source": [
    "for i in [2.3, 6, -3, 19, 0]:\n",
    "    if i == 0:\n",
    "        print( str(i) + \" is equal to zero\")\n",
    "    else: \n",
    "        print( str(i) + \" is not equal to  zero\")"
   ]
  },
  {
   "cell_type": "markdown",
   "metadata": {},
   "source": [
    "Note the use of the double equal sign (\"==\") here. Using a simple equal sign would be invalid, because it would be an assignment, which makes no sense at that point. Try it out!"
   ]
  },
  {
   "cell_type": "markdown",
   "metadata": {},
   "source": [
    "Sometimes it is useful to have a number of checks in a row. In this case the `elif` clause comes in handy which means *else if*. The following blocks are equivalent:"
   ]
  },
  {
   "cell_type": "code",
   "execution_count": null,
   "metadata": {},
   "outputs": [],
   "source": [
    "for i in [2.3, 6, -3, 19, 0, -12]:\n",
    "    if i > 0:\n",
    "        print( str(i) + \" is bigger than zero\")\n",
    "    else:\n",
    "        if i > -5: \n",
    "            print( str(i) + \" is not bigger than zero but bigger than -5\")\n",
    "        else:\n",
    "            print( str(i) + \" is not bigger than zero and not bigger than -5\")"
   ]
  },
  {
   "cell_type": "code",
   "execution_count": null,
   "metadata": {},
   "outputs": [],
   "source": [
    "for i in [2.3, 6, -3, 19, 0, -12]:\n",
    "    if i > 0:\n",
    "        print( str(i) + \" is bigger than zero\")\n",
    "    elif i > -5: \n",
    "        print( str(i) + \" is not bigger than zero but bigger than -5\")\n",
    "    else:\n",
    "        print( str(i) + \" is not bigger than zero and not bigger than -5\")"
   ]
  },
  {
   "cell_type": "markdown",
   "metadata": {},
   "source": [
    "## Boolean Expressions\n",
    "\n",
    "We have made use of expressions of the form `while a < b:` or `if a == b` and similar to compare `a` and `b`. In general, expressions which can only attain the values `True` or `False` are called *Boolean Expressions*, after [George Boole](https://en.wikipedia.org/wiki/George_Boole), the first professor of Mathematics at Queen's College, Cork (now UCC). George Boole (1815-1864) invented Symbolic Logic (now called Boolean algebra), which is the basis of modern computer science.  Simple examples of Boolean Expressions are"
   ]
  },
  {
   "cell_type": "code",
   "execution_count": null,
   "metadata": {
    "collapsed": true
   },
   "outputs": [],
   "source": [
    "1 < 0"
   ]
  },
  {
   "cell_type": "code",
   "execution_count": null,
   "metadata": {
    "collapsed": true
   },
   "outputs": [],
   "source": [
    "0 < 1"
   ]
  },
  {
   "cell_type": "code",
   "execution_count": null,
   "metadata": {
    "collapsed": true
   },
   "outputs": [],
   "source": [
    "3 == 3"
   ]
  },
  {
   "cell_type": "markdown",
   "metadata": {},
   "source": [
    "It is also possible to combine Boolean Expressions with `and`, `or` and `not`, for example"
   ]
  },
  {
   "cell_type": "code",
   "execution_count": null,
   "metadata": {
    "collapsed": true
   },
   "outputs": [],
   "source": [
    "not (1 < 0)"
   ]
  },
  {
   "cell_type": "code",
   "execution_count": null,
   "metadata": {
    "collapsed": true
   },
   "outputs": [],
   "source": [
    "(1 == 1) and (2 <= 3)"
   ]
  },
  {
   "cell_type": "code",
   "execution_count": null,
   "metadata": {
    "collapsed": true
   },
   "outputs": [],
   "source": [
    "(1 == 1) and (2 <= 1)"
   ]
  },
  {
   "cell_type": "markdown",
   "metadata": {},
   "source": [
    "Finally *Boolean expression* can also be assigned to *Boolean variables*, for example"
   ]
  },
  {
   "cell_type": "code",
   "execution_count": null,
   "metadata": {
    "collapsed": true
   },
   "outputs": [],
   "source": [
    "a = 1\n",
    "b = 2\n",
    "bv = a < b\n",
    "type(bv), bv"
   ]
  },
  {
   "cell_type": "markdown",
   "metadata": {},
   "source": [
    "you can also directly set boolean variables to `True` or `False` (note the capitalization of these keywords):"
   ]
  },
  {
   "cell_type": "code",
   "execution_count": null,
   "metadata": {
    "collapsed": true
   },
   "outputs": [],
   "source": [
    "mybvt = True\n",
    "mybvf = False\n",
    "mybvt, type(mybvt), mybvf, type(mybvf)"
   ]
  },
  {
   "cell_type": "markdown",
   "metadata": {},
   "source": [
    "## Functions"
   ]
  },
  {
   "cell_type": "markdown",
   "metadata": {},
   "source": [
    "Let us consider again our Fibonacci code snippet\n",
    "\n",
    "    fiblist = [0,1]\n",
    "    while len(fiblist) < 15:\n",
    "        fiblist.append( fiblist[-1] + fiblist[-2])\n",
    "    print(fiblist)\n",
    "which prints a list of the first 15 Fibonacci numbers. If we want to calculate the first 20 numbers, we would need to change the `15` into `20`, but this does not seem very elegant. Instead let us define a function:"
   ]
  },
  {
   "cell_type": "code",
   "execution_count": null,
   "metadata": {
    "collapsed": true
   },
   "outputs": [],
   "source": [
    "def fibprint(n):\n",
    "    fiblist = [0,1]\n",
    "    while len(fiblist) < n:\n",
    "        fiblist.append( fiblist[-1] + fiblist[-2])\n",
    "    print(fiblist)"
   ]
  },
  {
   "cell_type": "markdown",
   "metadata": {},
   "source": [
    "The core of this function is precisely as the previous code snippet, but with `15` replaced by `n`. The variable `n` appears as a *parameter* in the function definition.  We can use the function as follows:"
   ]
  },
  {
   "cell_type": "code",
   "execution_count": null,
   "metadata": {
    "collapsed": true
   },
   "outputs": [],
   "source": [
    "fibprint(7)"
   ]
  },
  {
   "cell_type": "markdown",
   "metadata": {},
   "source": [
    "i.e. the function is called with the *argument* 7. This results in setting the parmeter `n` to the value 7 and then executes the core of the function."
   ]
  },
  {
   "cell_type": "code",
   "execution_count": null,
   "metadata": {
    "collapsed": true
   },
   "outputs": [],
   "source": [
    "fibprint(20)"
   ]
  },
  {
   "cell_type": "markdown",
   "metadata": {},
   "source": [
    "Functions can also have more than one argument or no argument at all. \n",
    "\n",
    "In our case, we might like to generalize our function, so that we can change the starting points of our Fibonacci sequence to values which are different from  0 and 1.  For example look at the following:"
   ]
  },
  {
   "cell_type": "code",
   "execution_count": null,
   "metadata": {
    "collapsed": true
   },
   "outputs": [],
   "source": [
    "def fibprintnew(n, a=0, b=1):\n",
    "    fiblist = [a, b]\n",
    "    while len(fiblist) < n:\n",
    "        fiblist.append( fiblist[-1] + fiblist[-2])\n",
    "    print(fiblist)"
   ]
  },
  {
   "cell_type": "code",
   "execution_count": null,
   "metadata": {
    "collapsed": true
   },
   "outputs": [],
   "source": [
    "fibprintnew(7,3,2)"
   ]
  },
  {
   "cell_type": "markdown",
   "metadata": {},
   "source": [
    "This means that we call the function with the three arguments 7, 3, and 2. The parameter `n` takes on the first argument 7, the parameters `a` and `b` become a 3 and 2, respectively. Therefore during this call, the first line of the body of the function effectively reads `fiblist = [3, 2]`.\n",
    "\n",
    "Note that in the parameter list we wrote `a=0` and `b=1`.  This means that we give default values for these parameters, in case they are left out when the function is called:"
   ]
  },
  {
   "cell_type": "code",
   "execution_count": null,
   "metadata": {
    "collapsed": true
   },
   "outputs": [],
   "source": [
    "fibprintnew(7)"
   ]
  },
  {
   "cell_type": "markdown",
   "metadata": {},
   "source": [
    "This means that if we call `fibprintnew` with only one argument, then we obtain the standard Fibonacci sequence. This means the arguments for `a` and `b` are optional because they assume their specified default values when called. On the other hand the argument for `n` is mandatory, because we did not specify any default. What do you think should happen, if we call the function with *two* arguments? Let's try it out:"
   ]
  },
  {
   "cell_type": "code",
   "execution_count": null,
   "metadata": {
    "collapsed": true
   },
   "outputs": [],
   "source": [
    "fibprintnew(7,3)"
   ]
  },
  {
   "cell_type": "markdown",
   "metadata": {},
   "source": [
    "Now the parameter `a` takes the value `3` and the parameter `b` takes its default value `1`. Can we also leave `a` at its default value and only set the value for `b`? Yes, but we need to specify the parameter name explicitly as follows:"
   ]
  },
  {
   "cell_type": "code",
   "execution_count": null,
   "metadata": {
    "collapsed": true
   },
   "outputs": [],
   "source": [
    "fibprintnew(7,b=5)"
   ]
  },
  {
   "cell_type": "markdown",
   "metadata": {},
   "source": [
    "Sometimes we might only be interested in the last Fibonacci number, and do not require the full list. In this case we can use a simpler implementation, which does not use lists at all:"
   ]
  },
  {
   "cell_type": "code",
   "execution_count": null,
   "metadata": {
    "collapsed": true
   },
   "outputs": [],
   "source": [
    "def fibonacci(n,a=0,b=1):\n",
    "    for k in range(n):\n",
    "        a, b = b, a+b\n",
    "    return a"
   ]
  },
  {
   "cell_type": "markdown",
   "metadata": {},
   "source": [
    "The important thing is that this function now *returns* a value which can be used for further computation"
   ]
  },
  {
   "cell_type": "code",
   "execution_count": null,
   "metadata": {
    "collapsed": true
   },
   "outputs": [],
   "source": [
    "fibonacci(2016)"
   ]
  },
  {
   "cell_type": "markdown",
   "metadata": {},
   "source": [
    "Btw, internally `fibonacci` is actually also a Python variable (or more accurately an object), which is of the type `function`:"
   ]
  },
  {
   "cell_type": "code",
   "execution_count": null,
   "metadata": {
    "collapsed": true
   },
   "outputs": [],
   "source": [
    "fibonacci, type(fibonacci)"
   ]
  },
  {
   "cell_type": "markdown",
   "metadata": {},
   "source": [
    "# Summary of this section\n",
    "\n",
    "- Python variables come in different types, the ones we have encountered so far are:\n",
    "   - `int`\n",
    "   - `float`\n",
    "   - `str`\n",
    "   - `bool`\n",
    "   - `list`\n",
    "   - `function`\n",
    "   \n",
    "- We covered a number of keywords of the python language\n",
    "   - `while`\n",
    "   - `for`\n",
    "   - `in`\n",
    "   - `if`\n",
    "   - `else`\n",
    "   - `elif`\n",
    "   - `not`\n",
    "   - `and`\n",
    "   - `or`\n",
    "   - `False`\n",
    "   - `True`\n",
    "   - `def`\n",
    "   - `return`\n",
    "   \n",
    "- We also encountered a number of built-in functions (some of them were covered in the tutorials):\n",
    "   - `type()`\n",
    "   - `len()`\n",
    "   - `print()`\n",
    "   - `str()`\n",
    "   - `list()`\n",
    "   - `float()`\n",
    "   - `min()`\n",
    "   - `max()`\n",
    "   - `range()`\n",
    "   - `round()`\n",
    "   - `abs()`\n",
    "   \n",
    "- We also learned the meaning of\n",
    "   - `mylist = [3, 1.2, 7]`\n",
    "   - `mylist.append(12.2)`\n",
    "   \n",
    "- Here also a summary of operations involving numbers \n",
    "   - `*`, `+`, `-`, `/`\n",
    "   - `**`\n",
    "   - `//`\n",
    "   - `%`\n",
    "   - `=`\n",
    "   - `==`"
   ]
  },
  {
   "cell_type": "markdown",
   "metadata": {
    "collapsed": true
   },
   "source": [
    "# Link collection\n",
    "\n",
    "\n",
    "The current course can only give a small glimpse of the topic of *Python*.  Much more information is available electronically on the Internet, and also in the form of classical textbooks.  In the following, I give a collection of links and topics, which may be beneficial in exploring the topic beyond the current course. \n",
    "\n",
    "## The Python language\n",
    "\n",
    "Our programming language of choice for the current course was *Python*.  As it is one of the most popular programming languages, there is no end of usueful information on the internet.   Good resources are for \n",
    "example:\n",
    "\n",
    "* [**`www.python.org`**](https://www.python.org/) The Python \"homepage\", which is the authorative source of information for anybody interested in the language.  In particular the [tutorial](https://docs.python.org/3/tutorial/introduction.html) should at this point easy for you to follow. Try parts 3 and 4 of the tutorial, to get most of the language features for the current course.  If you are interested in learning more, try part 5 of the tutorial, in particular 5.5 on *Dictionaries* (`dict`s) is very useful (we have actually used `dict`s already, for example in the context of `sympy.subs`).  Beyond the tutorial, there is also the more formal specification of the full python language for reference. I sometimes use for example the lists of all [build-in functions](https://docs.python.org/3/library/functions.html) and [built-in types](https://docs.python.org/3/library/stdtypes.html).\n",
    "\n",
    "\n",
    "* [**`stackexchange.com`**](https://stackexchange.com/) This is a great site for all sorts of computing (and more general) questions, including, of course, [Python](https://stackoverflow.com/questions/tagged/python), [Numpy](https://stackoverflow.com/questions/tagged/numpy), [Sympy](https://stackoverflow.com/questions/tagged/sympy) and [Matplotlib](https://stackoverflow.com/questions/tagged/matplotlib). \n",
    "\n",
    "##  Tutorials and textbooks\n",
    "\n",
    "Here a random selection of links, which you might find useful\n",
    "- http://www.scipy-lectures.org/index.html (Similar topic selection as the current course)\n",
    "- http://pythontutor.com/ (visiualize the execution of your code)\n",
    "- https://www.python-course.eu/numerical_programming.php (Numerical Programming in Python geared towards Big Data)\n",
    "\n",
    "- https://python.swaroopch.com/ (General intro to Python)\n",
    "- https://realpython.com/ (individual topics covered in tutorial style)\n",
    "- http://greenteapress.com/wp/think-python-2e/ (Soft intro to Python, although not specifically to Mathematical applications.)\n",
    "- https://web.stanford.edu/~schmit/cme193/ (Scientific Computing course with different selection of topics.  Similar are taught world-wide, and you can easily find lecture notes online.)\n",
    "- https://www.youtube.com/watch?v=gtejJ3RCddE (This one is Numpy only, but you will also find videos for other topics covered in the course.)\n",
    "- [Markdown tutorial](https://www.markdowntutorial.com/)\n",
    "- http://www.diveintopython3.net/ (This is an advanced tutorial into Python, not suitable for beginners.)\n",
    "- http://detexify.kirelabs.org/classify.html (recognize latex symbols)\n",
    "- https://en.wikibooks.org/wiki/LaTeX/Mathematics (How to typeset Latex equations)\n"
   ]
  },
  {
   "cell_type": "code",
   "execution_count": null,
   "metadata": {},
   "outputs": [],
   "source": []
  }
 ],
 "metadata": {
  "kernelspec": {
   "display_name": "Python 3",
   "language": "python",
   "name": "python3"
  },
  "language_info": {
   "codemirror_mode": {
    "name": "ipython",
    "version": 3
   },
   "file_extension": ".py",
   "mimetype": "text/x-python",
   "name": "python",
   "nbconvert_exporter": "python",
   "pygments_lexer": "ipython3",
   "version": "3.6.5"
  }
 },
 "nbformat": 4,
 "nbformat_minor": 1
}
