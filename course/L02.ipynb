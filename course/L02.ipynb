{
 "cells": [
  {
   "cell_type": "markdown",
   "metadata": {},
   "source": [
    "# External libraries and Python\n",
    "\n",
    "In the previous part of the course, we were focusing on *built-in* functionality of Python. However, the true strength of Python is the availability of a great number of special external *libraries*.  Many of these libraries are large projects in their own right. Popular libraries include for example\n",
    "\n",
    "- [numpy](http://www.numpy.org/)\n",
    "- [matplotlib](http://www.matplotlib.org/)\n",
    "- [pandas](http://pandas.pydata.org/)\n",
    "\n",
    "Before you can use functionality of a library, it needs to be *imported*.  This is done by a command of the form \n",
    "    \n",
    "    import libraryname\n",
    "\n",
    "Most often you will see an import of the form\n",
    "\n",
    "    import libraryname as shortname\n",
    "\n",
    "For example in the last lecture, we already used the statement \n",
    "\n",
    "    import matplotlib.pyplot as plt\n",
    "    \n",
    "which means that all functions under `matplotlib.pyplot` become available with the short name `plt`.\n",
    "After this statement, we can for example use \n",
    "\n",
    "    plt.plot([1,4,2,2])\n",
    "    plt.show()\n"
   ]
  },
  {
   "cell_type": "code",
   "execution_count": null,
   "metadata": {},
   "outputs": [],
   "source": [
    "import matplotlib.pyplot as plt\n",
    "plt.plot([1,4,2,2])\n",
    "plt.show()"
   ]
  },
  {
   "cell_type": "markdown",
   "metadata": {},
   "source": [
    "The last line `plt.show()` shows the graph. When we work in a jupyter notebook, it gets tedious to always type this command at the end of our plotting. We would rather prefer to see the result straight away. This is done by adding the (magic) command \n",
    "\n",
    "    %matplotlib inline\n",
    "\n",
    "to our include command. "
   ]
  },
  {
   "cell_type": "code",
   "execution_count": null,
   "metadata": {},
   "outputs": [],
   "source": [
    "%matplotlib inline\n",
    "import matplotlib.pyplot as plt"
   ]
  },
  {
   "cell_type": "markdown",
   "metadata": {},
   "source": [
    "Now we can simply use "
   ]
  },
  {
   "cell_type": "code",
   "execution_count": null,
   "metadata": {},
   "outputs": [],
   "source": [
    "plt.plot([1,4,2,2])"
   ]
  },
  {
   "cell_type": "markdown",
   "metadata": {},
   "source": [
    "to obtain the same result as before. "
   ]
  },
  {
   "cell_type": "markdown",
   "metadata": {},
   "source": [
    "# The Pandas library\n",
    "\n",
    "A very powerful and widely used library for data analysis in Python is called *[Pandas](http://pandas.pydata.org/)*.  We import it with the following command:\n",
    "\n",
    "    import pandas as pd\n",
    "\n",
    "\n"
   ]
  },
  {
   "cell_type": "code",
   "execution_count": null,
   "metadata": {},
   "outputs": [],
   "source": [
    "import pandas as pd"
   ]
  },
  {
   "cell_type": "markdown",
   "metadata": {},
   "source": [
    "## Pandas Series\n",
    "\n",
    "Using Pandas, it is easy to work with lists of data.  For example, we can get convert a normal list into a pandas *Series*:"
   ]
  },
  {
   "cell_type": "code",
   "execution_count": null,
   "metadata": {},
   "outputs": [],
   "source": [
    "series = pd.Series([1,4,2,2])\n",
    "series"
   ]
  },
  {
   "cell_type": "markdown",
   "metadata": {},
   "source": [
    "Why should we do this? One motivation is that the functionality of built in lists is quite limited in Python.  For example, if you try to multiply a list with a constant number, you will find that it does not work:"
   ]
  },
  {
   "cell_type": "code",
   "execution_count": null,
   "metadata": {},
   "outputs": [],
   "source": [
    "3.5*[1,4,2,2]"
   ]
  },
  {
   "cell_type": "markdown",
   "metadata": {},
   "source": [
    "However, this is no problem with a Pandas Series:"
   ]
  },
  {
   "cell_type": "code",
   "execution_count": null,
   "metadata": {},
   "outputs": [],
   "source": [
    "3.5*series"
   ]
  },
  {
   "cell_type": "markdown",
   "metadata": {},
   "source": [
    "A Series also has an *index*"
   ]
  },
  {
   "cell_type": "code",
   "execution_count": null,
   "metadata": {},
   "outputs": [],
   "source": [
    "series.index"
   ]
  },
  {
   "cell_type": "markdown",
   "metadata": {},
   "source": [
    "which in this case are simply the numbers from 0 to 3. However, in many applications, the index will represent something like a time stamp, and therefore it often makes sense to think of a Series as a Timeseries. More on this idea in a second. \n",
    "\n",
    "We can also give a series a name:"
   ]
  },
  {
   "cell_type": "code",
   "execution_count": null,
   "metadata": {},
   "outputs": [],
   "source": [
    "series.name=\"Testdata\"\n",
    "series"
   ]
  },
  {
   "cell_type": "markdown",
   "metadata": {},
   "source": [
    "If we want, we can provide the name and the index explicitly as we generate a data series:"
   ]
  },
  {
   "cell_type": "code",
   "execution_count": null,
   "metadata": {},
   "outputs": [],
   "source": [
    "series2 = pd.Series([3,4,1,7,-2.5],name=\"My other data\", index=[0,2,3,4,5])\n",
    "series2"
   ]
  },
  {
   "cell_type": "markdown",
   "metadata": {},
   "source": [
    "Now we have two data Series, `series` and `series2`:"
   ]
  },
  {
   "cell_type": "code",
   "execution_count": null,
   "metadata": {},
   "outputs": [],
   "source": [
    "print(series,series2)"
   ]
  },
  {
   "cell_type": "markdown",
   "metadata": {},
   "source": [
    "## Data Frames\n",
    "\n",
    "We can combine it into one table, which is called *DataFrame* in Pandas:"
   ]
  },
  {
   "cell_type": "code",
   "execution_count": null,
   "metadata": {},
   "outputs": [],
   "source": [
    "pd.DataFrame([series,series2])"
   ]
  },
  {
   "cell_type": "markdown",
   "metadata": {},
   "source": [
    "What has happened here? We see that each series became one row of the new table. In addition, the index in each row has been respected, i.e. in column 0 we have the values which correspond to index 0 from each Series. In column `1` we see the value `NaN` (short for **N**ot **a** **N**umber) for the second data set. The reason is that the second Series has no entry at index `1`. Similarly `NaN`s appear in columns 4 and 5, since the first series has no entries there. \n",
    "\n",
    "The most useful form of tables is however in the form, where individual series correspond to columns and not rows.  We obtain this by *transposing* the previous table:"
   ]
  },
  {
   "cell_type": "code",
   "execution_count": null,
   "metadata": {},
   "outputs": [],
   "source": [
    "mytable = pd.DataFrame([series,series2]).T\n",
    "mytable"
   ]
  },
  {
   "cell_type": "markdown",
   "metadata": {},
   "source": [
    "We can get back individual series from the table by accessing an individual column:"
   ]
  },
  {
   "cell_type": "code",
   "execution_count": null,
   "metadata": {},
   "outputs": [],
   "source": [
    "mytable[\"Testdata\"]"
   ]
  },
  {
   "cell_type": "markdown",
   "metadata": {},
   "source": [
    "It is also very easy to add further columns to the table, for example:"
   ]
  },
  {
   "cell_type": "code",
   "execution_count": null,
   "metadata": {},
   "outputs": [],
   "source": [
    "mytable[\"Sum\"] = mytable[\"Testdata\"] + mytable[\"My other data\"]\n",
    "mytable"
   ]
  },
  {
   "cell_type": "markdown",
   "metadata": {},
   "source": [
    "Note that the sum in a particular row is only defined, if it has a valid number in each column. "
   ]
  },
  {
   "cell_type": "markdown",
   "metadata": {},
   "source": [
    "## Pandas Plotting\n",
    "\n",
    "We can easily plot the data:"
   ]
  },
  {
   "cell_type": "code",
   "execution_count": null,
   "metadata": {},
   "outputs": [],
   "source": [
    "series.plot()"
   ]
  },
  {
   "cell_type": "markdown",
   "metadata": {},
   "source": [
    "which is the same plot as before. \n",
    "\n",
    "There exist many variations for plotting. For example, if you think line plots are boring, you can try bar charts or pie charts:"
   ]
  },
  {
   "cell_type": "code",
   "execution_count": null,
   "metadata": {},
   "outputs": [],
   "source": [
    "series.plot.bar()"
   ]
  },
  {
   "cell_type": "code",
   "execution_count": null,
   "metadata": {},
   "outputs": [],
   "source": [
    "series.plot.pie()"
   ]
  },
  {
   "cell_type": "markdown",
   "metadata": {},
   "source": [
    "You can further change the size, color and linestyle of your plot, and also add labels to the axes:"
   ]
  },
  {
   "cell_type": "code",
   "execution_count": null,
   "metadata": {},
   "outputs": [],
   "source": [
    "series.plot(figsize=(10,3), color=\"red\", linestyle=\"dashed\")\n",
    "plt.ylabel(\"Sales\")\n",
    "plt.xlabel(\"Time\")"
   ]
  },
  {
   "cell_type": "markdown",
   "metadata": {},
   "source": [
    "Many more plotting options are possible, and we refer to the [Pandas Documentation](https://pandas.pydata.org/pandas-docs/stable/visualization.html) for further inspriation."
   ]
  },
  {
   "cell_type": "markdown",
   "metadata": {},
   "source": [
    "## Elementary statistics\n",
    "\n",
    "Standard statistical features, including *mean*, *median* and *standard deviation* are immediately available:"
   ]
  },
  {
   "cell_type": "code",
   "execution_count": null,
   "metadata": {},
   "outputs": [],
   "source": [
    "series.mean(),series.median(), series.std()"
   ]
  },
  {
   "cell_type": "markdown",
   "metadata": {},
   "source": [
    "We will do more interesting stats soon enough, but let us first obtain some more interesting data."
   ]
  },
  {
   "cell_type": "markdown",
   "metadata": {},
   "source": [
    "## Importing data from the Internet"
   ]
  },
  {
   "cell_type": "markdown",
   "metadata": {},
   "source": [
    "\n",
    "\n",
    "The strength of the pandas library is that it allows you to many of the things you commonly want to do with enterprise related data out of the box. \n",
    "\n",
    "Say for example, if you want to see the historical data of the Apple share price (stock symbol AAPL), you head over to \n",
    "[www.nasdaq.com](https://www.nasdaq.com). Then click \"historical quote\" and select the desired time-frame (say 5 years).  Go to the bottom of this page, where it says \"Download this file in Excel Format\". Click this links to download the data.  Save the file (\"HistoricalQuotes.csv\") in the same directory, where your `jupyter.bat` file resides. This should give a file similar to the file \"AAPL.csv\" which I have prepared previously. \n"
   ]
  },
  {
   "cell_type": "code",
   "execution_count": null,
   "metadata": {},
   "outputs": [],
   "source": [
    "pd.read_csv(\"AAPL.csv\").head()"
   ]
  },
  {
   "cell_type": "markdown",
   "metadata": {},
   "source": [
    "Downloading the data by hand from the Internet and saving it in the right directory is error prone.  If possible, it is better to download the data directly into Python.  This can be done by using a download link as URL instead of a file name. For example the site [stooq.com](https://stooq.com) allows us to do the following:"
   ]
  },
  {
   "cell_type": "code",
   "execution_count": null,
   "metadata": {},
   "outputs": [],
   "source": [
    "apple = pd.read_csv(\"https://stooq.com/q/d/l/?s=AAPL.US&i=d\",index_col=\"Date\",parse_dates=[\"Date\"])\n",
    "apple.tail()"
   ]
  },
  {
   "cell_type": "markdown",
   "metadata": {},
   "source": [
    "Note that the index column is now `Date`, which makes sense for stock data. The argument `parse_dates=[\"Date\"]` ensures that the dates are also recognised as actual dates, and not only as strings. To check that this is indeed the case, let us look at `apple.index`:"
   ]
  },
  {
   "cell_type": "code",
   "execution_count": null,
   "metadata": {},
   "outputs": [],
   "source": [
    "apple.index"
   ]
  },
  {
   "cell_type": "markdown",
   "metadata": {},
   "source": [
    "We therefore see that we obtained the data starting from September 1984. \n",
    "\n",
    "To get a first overview of some downloaded data, it is good to first study the output of `.describe()`"
   ]
  },
  {
   "cell_type": "code",
   "execution_count": null,
   "metadata": {},
   "outputs": [],
   "source": [
    "apple.describe()"
   ]
  },
  {
   "cell_type": "markdown",
   "metadata": {},
   "source": [
    "A simple plot of the `Close` price can be obtained by"
   ]
  },
  {
   "cell_type": "code",
   "execution_count": null,
   "metadata": {},
   "outputs": [],
   "source": [
    "apple[\"Close\"].plot()"
   ]
  },
  {
   "cell_type": "markdown",
   "metadata": {},
   "source": [
    "or alternatively:"
   ]
  },
  {
   "cell_type": "code",
   "execution_count": null,
   "metadata": {},
   "outputs": [],
   "source": [
    "apple.plot(y=\"Close\")"
   ]
  },
  {
   "cell_type": "markdown",
   "metadata": {},
   "source": [
    "## Moving Average"
   ]
  },
  {
   "cell_type": "markdown",
   "metadata": {},
   "source": [
    "A very useful function is `.rolling()`, which allows us to calculate moving averages, maxima, minima, etc. Let us for example add a rolling average over 50 trading days to the last plot:"
   ]
  },
  {
   "cell_type": "code",
   "execution_count": null,
   "metadata": {},
   "outputs": [],
   "source": [
    "apple[\"avg50\"] =  apple[\"Close\"].rolling(50).mean()\n",
    "apple.plot(y=[\"Close\",\"avg50\"])"
   ]
  },
  {
   "cell_type": "markdown",
   "metadata": {},
   "source": [
    "## Selecting a date range"
   ]
  },
  {
   "cell_type": "markdown",
   "metadata": {},
   "source": [
    "Maybe we only want to see the price since last September?"
   ]
  },
  {
   "cell_type": "code",
   "execution_count": null,
   "metadata": {},
   "outputs": [],
   "source": [
    "apple[\"2017-09\":].plot(y=[\"Open\",\"avg50\"],figsize=(20,7))"
   ]
  },
  {
   "cell_type": "markdown",
   "metadata": {},
   "source": [
    "Or from beginning of 1997 to end of 2001 in logscale:"
   ]
  },
  {
   "cell_type": "code",
   "execution_count": null,
   "metadata": {},
   "outputs": [],
   "source": [
    "apple[\"1997\":\"2001\"].plot(y=[\"Open\",\"avg50\"],figsize=(20,7))\n",
    "plt.yscale(\"log\")"
   ]
  },
  {
   "cell_type": "markdown",
   "metadata": {},
   "source": [
    "## Data Analytics\n",
    "\n",
    "Now that we have the historical stock data of Apple available we could try to ask reasonable questions. \n",
    "\n",
    "For example, how is the percentage change between consecutive closing dates distributed? Let us create a new column, which contains the percentage change of the close price compared to the previous one, and then let us plot a histogram of that change in log-scale:"
   ]
  },
  {
   "cell_type": "code",
   "execution_count": null,
   "metadata": {},
   "outputs": [],
   "source": [
    "apple[\"delta\"] = apple[\"Close\"].pct_change()\n",
    "apple[\"delta\"].hist(bins=100)\n",
    "plt.yscale(\"log\")\n"
   ]
  },
  {
   "cell_type": "markdown",
   "metadata": {},
   "source": [
    "Apparently, most of the time the change is only a couple of percent. However there were a number of exceptional trading dates, when the stock value drastically changed:"
   ]
  },
  {
   "cell_type": "code",
   "execution_count": null,
   "metadata": {},
   "outputs": [],
   "source": [
    "apple[\"delta\"].idxmin(), apple[\"delta\"].idxmax()"
   ]
  },
  {
   "cell_type": "markdown",
   "metadata": {},
   "source": [
    "A bit of googling quickly reveals the reasons for these jumps:\n",
    "\n",
    "https://money.cnn.com/2000/09/29/markets/techwrap/\n",
    "\n",
    "https://money.cnn.com/1997/08/06/technology/apple/\n"
   ]
  },
  {
   "cell_type": "markdown",
   "metadata": {},
   "source": [
    "We can also get a list of all dates, with more than 15% change:"
   ]
  },
  {
   "cell_type": "code",
   "execution_count": null,
   "metadata": {},
   "outputs": [],
   "source": [
    "apple[abs(apple[\"delta\"])>0.15]"
   ]
  },
  {
   "cell_type": "markdown",
   "metadata": {},
   "source": [
    "How many of such days were there?"
   ]
  },
  {
   "cell_type": "code",
   "execution_count": null,
   "metadata": {},
   "outputs": [],
   "source": [
    "sum(abs(apple[\"delta\"])>0.15)"
   ]
  },
  {
   "cell_type": "markdown",
   "metadata": {},
   "source": [
    "## Correlation analysis\n",
    "\n",
    "If you are a typical day trader, you might be interested in understanding the correlation between overnight changes in the stock price and the expected changes during the day.  Let us therefore define a `delta_day` and `delta_night` column, which gives the percentage change in each case. "
   ]
  },
  {
   "cell_type": "code",
   "execution_count": null,
   "metadata": {},
   "outputs": [],
   "source": [
    "apple[\"delta_day\"] = (apple[\"Close\"] - apple[\"Open\"])/apple[\"Open\"]\n",
    "apple[\"delta_night\"] = (apple[\"Open\"] - apple[\"Close\"].shift())/apple[\"Close\"].shift()\n",
    "apple.head()"
   ]
  },
  {
   "cell_type": "markdown",
   "metadata": {},
   "source": [
    "Let us check, if there is any obvious correlation between the two, by plotting one against each other. "
   ]
  },
  {
   "cell_type": "code",
   "execution_count": null,
   "metadata": {},
   "outputs": [],
   "source": [
    "apple.plot.scatter(\"delta_night\",\"delta_day\")"
   ]
  },
  {
   "cell_type": "markdown",
   "metadata": {},
   "source": [
    "From this plot it seems that there is no obvious connection.  We can also look at the (Pearson) correlation coefficient between any columns:"
   ]
  },
  {
   "cell_type": "code",
   "execution_count": null,
   "metadata": {},
   "outputs": [],
   "source": [
    "apple.corr()"
   ]
  },
  {
   "cell_type": "markdown",
   "metadata": {},
   "source": [
    "This means that there is a very slight anti-correlation between overnight change and daytime change.  At this point it's statistical significance is however not clear. "
   ]
  }
 ],
 "metadata": {
  "kernelspec": {
   "display_name": "Python 3",
   "language": "python",
   "name": "python3"
  },
  "language_info": {
   "codemirror_mode": {
    "name": "ipython",
    "version": 3
   },
   "file_extension": ".py",
   "mimetype": "text/x-python",
   "name": "python",
   "nbconvert_exporter": "python",
   "pygments_lexer": "ipython3",
   "version": "3.6.6"
  }
 },
 "nbformat": 4,
 "nbformat_minor": 1
}
