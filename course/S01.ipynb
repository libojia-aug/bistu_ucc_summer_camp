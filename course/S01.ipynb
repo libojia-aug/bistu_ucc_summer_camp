{
 "cells": [
  {
   "cell_type": "markdown",
   "metadata": {},
   "source": [
    "# Think before you execute"
   ]
  },
  {
   "cell_type": "markdown",
   "metadata": {},
   "source": [
    "Try to figure out, what the following code snippets do, without executing them! Write down your answer. Then check your answer by executing the code. \n",
    "\n",
    "1. <!-- -->\n",
    "    \n",
    "        a = \"2.0\"\n",
    "        a = a + str(5)\n",
    "        print(2*float(a))\n",
    "2. <!-- -->\n",
    "\n",
    "        print(-2 ** -2)\n",
    "        print( (-2) ** -2)\n",
    "2. <!-- -->\n",
    "\n",
    "        print(7 ** 0)\n",
    "        print(0 ** 0.001)\n",
    "        print(0 ** 0.00)\n",
    "2. <!-- -->\n",
    "\n",
    "        b = []\n",
    "        print(len(b))\n",
    "        print(b[0])\n",
    "2. <!-- -->\n",
    "\n",
    "        c = [3,1]\n",
    "        c.append(2)\n",
    "        print(c[-2])\n",
    "2. <!-- -->\n",
    "\n",
    "        a = 20\n",
    "        while a >= 10:\n",
    "            a = a-2\n",
    "            print(a)\n",
    "2. <!-- -->\n",
    "\n",
    "        mylist = [1]\n",
    "        while mylist[-1] < 100:\n",
    "            mylist.append( (mylist[-1]+1)**2 )\n",
    "        print(mylist)"
   ]
  },
  {
   "cell_type": "code",
   "execution_count": 1,
   "metadata": {},
   "outputs": [
    {
     "name": "stdout",
     "output_type": "stream",
     "text": [
      "4.1\n"
     ]
    }
   ],
   "source": [
    "a = \"2.0\"\n",
    "a = a + str(5)\n",
    "print(2*float(a))"
   ]
  },
  {
   "cell_type": "code",
   "execution_count": 2,
   "metadata": {},
   "outputs": [
    {
     "name": "stdout",
     "output_type": "stream",
     "text": [
      "-0.25\n",
      "0.25\n"
     ]
    }
   ],
   "source": [
    "print(-2 ** -2)\n",
    "print( (-2) ** -2)"
   ]
  },
  {
   "cell_type": "code",
   "execution_count": 3,
   "metadata": {},
   "outputs": [
    {
     "name": "stdout",
     "output_type": "stream",
     "text": [
      "1\n",
      "0.0\n",
      "1.0\n"
     ]
    }
   ],
   "source": [
    "print(7 ** 0)\n",
    "print(0 ** 0.001)\n",
    "print(0 ** 0.00)"
   ]
  },
  {
   "cell_type": "code",
   "execution_count": 4,
   "metadata": {},
   "outputs": [
    {
     "name": "stdout",
     "output_type": "stream",
     "text": [
      "0\n"
     ]
    },
    {
     "ename": "IndexError",
     "evalue": "list index out of range",
     "output_type": "error",
     "traceback": [
      "\u001b[1;31m---------------------------------------------------------------------------\u001b[0m",
      "\u001b[1;31mIndexError\u001b[0m                                Traceback (most recent call last)",
      "\u001b[1;32m<ipython-input-4-427f2e2e948e>\u001b[0m in \u001b[0;36m<module>\u001b[1;34m()\u001b[0m\n\u001b[0;32m      1\u001b[0m \u001b[0mb\u001b[0m \u001b[1;33m=\u001b[0m \u001b[1;33m[\u001b[0m\u001b[1;33m]\u001b[0m\u001b[1;33m\u001b[0m\u001b[0m\n\u001b[0;32m      2\u001b[0m \u001b[0mprint\u001b[0m\u001b[1;33m(\u001b[0m\u001b[0mlen\u001b[0m\u001b[1;33m(\u001b[0m\u001b[0mb\u001b[0m\u001b[1;33m)\u001b[0m\u001b[1;33m)\u001b[0m\u001b[1;33m\u001b[0m\u001b[0m\n\u001b[1;32m----> 3\u001b[1;33m \u001b[0mprint\u001b[0m\u001b[1;33m(\u001b[0m\u001b[0mb\u001b[0m\u001b[1;33m[\u001b[0m\u001b[1;36m0\u001b[0m\u001b[1;33m]\u001b[0m\u001b[1;33m)\u001b[0m\u001b[1;33m\u001b[0m\u001b[0m\n\u001b[0m",
      "\u001b[1;31mIndexError\u001b[0m: list index out of range"
     ]
    }
   ],
   "source": [
    "b = []\n",
    "print(len(b))\n",
    "print(b[0])"
   ]
  },
  {
   "cell_type": "code",
   "execution_count": null,
   "metadata": {},
   "outputs": [],
   "source": [
    "c = [3,1]\n",
    "c.append(2)\n",
    "print(c[-2])"
   ]
  },
  {
   "cell_type": "code",
   "execution_count": null,
   "metadata": {},
   "outputs": [],
   "source": [
    "a = 20\n",
    "while a >= 10:\n",
    "    a = a-2\n",
    "    print(a)"
   ]
  },
  {
   "cell_type": "code",
   "execution_count": null,
   "metadata": {},
   "outputs": [],
   "source": [
    "mylist = [1]\n",
    "while mylist[-1] < 100:\n",
    "    mylist.append( (mylist[-1]+1)**2 )\n",
    "print(mylist)"
   ]
  },
  {
   "cell_type": "markdown",
   "metadata": {},
   "source": [
    "# Guess before you execute"
   ]
  },
  {
   "cell_type": "markdown",
   "metadata": {},
   "source": [
    "Can you *guess* what the following snippets are doing? Check by executing. \n",
    "\n",
    "1. <!-- -->\n",
    "\n",
    "        list1 = [2,9]\n",
    "        list2 = [3,7]\n",
    "        list3 = list1 + list2\n",
    "        print(list3)\n",
    "2. <!-- -->\n",
    "\n",
    "        print(\"ABC\" * 5)\n",
    "2. <!-- -->\n",
    "\n",
    "        print(\"0.2\" * 5)\n",
    "2. <!-- -->\n",
    "\n",
    "        print(18 % 7)\n",
    "2. <!-- -->\n",
    "\n",
    "        print(round(16.6))\n",
    "2. <!-- -->\n",
    "\n",
    "        print( abs(-3) )\n",
    "2. <!-- -->\n",
    "\n",
    "        mylist = [7,2,-3,18,2]\n",
    "        print(min(mylist))\n",
    "        print(max(mylist))\n",
    "        print( sorted(mylist) )"
   ]
  },
  {
   "cell_type": "code",
   "execution_count": null,
   "metadata": {},
   "outputs": [],
   "source": [
    "list1 = [2,9]\n",
    "list2 = [3,7]\n",
    "list3 = list1 + list2\n",
    "print(list3)"
   ]
  },
  {
   "cell_type": "code",
   "execution_count": null,
   "metadata": {},
   "outputs": [],
   "source": [
    "print(\"ABC\" * 5)"
   ]
  },
  {
   "cell_type": "code",
   "execution_count": null,
   "metadata": {},
   "outputs": [],
   "source": [
    "print(\"0.2\" * 5)"
   ]
  },
  {
   "cell_type": "code",
   "execution_count": null,
   "metadata": {},
   "outputs": [],
   "source": [
    "print(18 % 7)"
   ]
  },
  {
   "cell_type": "code",
   "execution_count": null,
   "metadata": {},
   "outputs": [],
   "source": [
    "print(round(16.6))"
   ]
  },
  {
   "cell_type": "code",
   "execution_count": null,
   "metadata": {},
   "outputs": [],
   "source": [
    "print( abs(-3) )"
   ]
  },
  {
   "cell_type": "code",
   "execution_count": null,
   "metadata": {},
   "outputs": [],
   "source": [
    "mylist = [7,2,-3,18,2]\n",
    "print(min(mylist))\n",
    "print(max(mylist))\n",
    "print( sorted(mylist) )"
   ]
  },
  {
   "cell_type": "markdown",
   "metadata": {},
   "source": [
    "# Perrin Numbers"
   ]
  },
  {
   "cell_type": "markdown",
   "metadata": {},
   "source": [
    "The [Perrin numbers](https://en.wikipedia.org/wiki/Perrin_number) are defined via the recurrence relation $$P(0) = 3,\\quad P(1) = 0,\\quad P(2) = 2$$ and $$P(n) = P(n − 2) + P(n − 3)\\quad \\text{ for }\\quad n > 2.$$ Calculate the first 20 Perrin numbers."
   ]
  },
  {
   "cell_type": "code",
   "execution_count": null,
   "metadata": {
    "nbgrader": {
     "grade": true,
     "grade_id": "cell-4db50686d885938b",
     "locked": false,
     "points": 0,
     "schema_version": 2,
     "solution": true
    }
   },
   "outputs": [],
   "source": [
    "P = [3, 0, 2]\n",
    "while len(P) < 20:\n",
    "    P.append(P[-2] + P[-3])\n",
    "print(P)"
   ]
  },
  {
   "cell_type": "markdown",
   "metadata": {},
   "source": [
    "# Think before you execute"
   ]
  },
  {
   "cell_type": "markdown",
   "metadata": {},
   "source": [
    "Try to figure out, what the following code snippets do, without executing them! Write down your answer. Then check your answer by executing the code. \n",
    "\n",
    "A great resource for exceuting snippets of code is also [pythontutor.com](http://pythontutor.com/). You can c&p your snippets to their website and execute through them step by step. At every step all used variables are updated and displayed."
   ]
  },
  {
   "cell_type": "code",
   "execution_count": null,
   "metadata": {},
   "outputs": [],
   "source": [
    "a = 2\n",
    "for k in [5,3,1]:\n",
    "    a = a + k\n",
    "a = a + k\n",
    "print(a)"
   ]
  },
  {
   "cell_type": "markdown",
   "metadata": {},
   "source": [
    "Do the same for the following snippet. What changes, if you indent/de-indent the fourth/fifth line by one level?"
   ]
  },
  {
   "cell_type": "code",
   "execution_count": 10,
   "metadata": {},
   "outputs": [
    {
     "name": "stdout",
     "output_type": "stream",
     "text": [
      "4\n"
     ]
    }
   ],
   "source": [
    "a = 2\n",
    "for k in [5,3,1]:\n",
    "    if k == 3:\n",
    "        a=0\n",
    "    a = a + k\n",
    "print(a)"
   ]
  },
  {
   "cell_type": "code",
   "execution_count": null,
   "metadata": {},
   "outputs": [],
   "source": [
    "myrange = list(range(10))\n",
    "mylist = myrange[1:-1]\n",
    "print(mylist)"
   ]
  },
  {
   "cell_type": "code",
   "execution_count": null,
   "metadata": {},
   "outputs": [],
   "source": [
    "mylist = []\n",
    "for k in range(10):\n",
    "    if k % 2 == 0:\n",
    "        mylist.append(k)\n",
    "    elif k % 3 == 0:\n",
    "        mylist.append(k)\n",
    "print(mylist)"
   ]
  },
  {
   "cell_type": "code",
   "execution_count": null,
   "metadata": {},
   "outputs": [],
   "source": [
    "def myfl(n):\n",
    "    r = 1\n",
    "    for k in range(2,n+1):\n",
    "        r = r*k\n",
    "    print(r)\n",
    "\n",
    "myfl(3)\n"
   ]
  },
  {
   "cell_type": "markdown",
   "metadata": {},
   "source": [
    "Also try to guess what `myfl(1)`, `myfl(2)`, `myfl(4)`, `myfl(0)`, `myfl(-17)` and  `myfl(3.5)` give."
   ]
  },
  {
   "cell_type": "markdown",
   "metadata": {},
   "source": [
    "# Guess before you execute"
   ]
  },
  {
   "cell_type": "markdown",
   "metadata": {},
   "source": [
    "The following uses *Boolean* operations. What do you think, the following snippets are doing? Check by executing. "
   ]
  },
  {
   "cell_type": "code",
   "execution_count": null,
   "metadata": {},
   "outputs": [],
   "source": [
    "mylist = []\n",
    "for k in range(10):\n",
    "    if not (k % 2 == 0 or k % 3 == 0):\n",
    "        mylist.append(k)\n",
    "print(mylist)"
   ]
  },
  {
   "cell_type": "code",
   "execution_count": null,
   "metadata": {},
   "outputs": [],
   "source": [
    "if 5:\n",
    "    print(\"5 is true\")\n",
    "else:\n",
    "    print(\"5 is false\")"
   ]
  },
  {
   "cell_type": "markdown",
   "metadata": {},
   "source": [
    "What changes, if you replace `5` by `0`?"
   ]
  },
  {
   "cell_type": "code",
   "execution_count": null,
   "metadata": {},
   "outputs": [],
   "source": [
    "mylist = []\n",
    "for k in range(10):\n",
    "    if (k % 2) and (k % 3):\n",
    "        mylist.append(k)\n",
    "print(mylist)"
   ]
  },
  {
   "cell_type": "markdown",
   "metadata": {},
   "source": [
    "Explain, how this works!"
   ]
  },
  {
   "cell_type": "markdown",
   "metadata": {},
   "source": [
    "# Divisible by three"
   ]
  },
  {
   "cell_type": "markdown",
   "metadata": {},
   "source": [
    "Write a function `divisible_by_3(n)` which has the following properties: If you call it with a number which can be divided by three, it should print out `The number xxx can be divided by three`, else it prints `The number xxx can not be divided by three`, where `xxx` is replaced by the argument with which the function was called. "
   ]
  },
  {
   "cell_type": "code",
   "execution_count": null,
   "metadata": {
    "nbgrader": {
     "grade": true,
     "grade_id": "cell-bfebc8f10afd614d",
     "locked": false,
     "points": 0,
     "schema_version": 2,
     "solution": true
    }
   },
   "outputs": [],
   "source": [
    "def divisible_by_3(n):\n",
    "    if n % 3 == 0:\n",
    "        print(\"The number \" + str(n) + \" can be divided by three\")\n",
    "    else:\n",
    "        print(\"The number \" + str(n) + \" can not be divided by three\")"
   ]
  },
  {
   "cell_type": "markdown",
   "metadata": {},
   "source": [
    "Check that your function works, by modifiying the following cell:"
   ]
  },
  {
   "cell_type": "code",
   "execution_count": null,
   "metadata": {},
   "outputs": [],
   "source": [
    "divisible_by_3(132)"
   ]
  },
  {
   "cell_type": "markdown",
   "metadata": {},
   "source": [
    "# Find all factors of a number"
   ]
  },
  {
   "cell_type": "markdown",
   "metadata": {},
   "source": [
    "Write a function `print_factors(n)` which prints out a list of all factors of a number."
   ]
  },
  {
   "cell_type": "code",
   "execution_count": null,
   "metadata": {
    "nbgrader": {
     "grade": true,
     "grade_id": "cell-074d7dbf54d2028d",
     "locked": false,
     "points": 0,
     "schema_version": 2,
     "solution": true
    }
   },
   "outputs": [],
   "source": [
    "def print_factors(n):\n",
    "    factors = []\n",
    "    for i in range(1,n+1):\n",
    "        if n % i == 0:\n",
    "            factors.append(i)\n",
    "    print(\"The factors of \"+ str(n) + \" are \" +str(factors))\n",
    "    factorsum = sum(factors[:-1])\n",
    "    print(\"The sum of all factors is \" + str(factorsum))\n",
    "    if factorsum == n: \n",
    "        print(\"The number \" + str(n) + \" is perfect!\" )\n",
    "    if len(factors) == 2: \n",
    "        print(\"The number \" + str(n) + \" is a prime number!\" )"
   ]
  },
  {
   "cell_type": "markdown",
   "metadata": {},
   "source": [
    "Test with the following lines. (Does this fulfill your expectations?)"
   ]
  },
  {
   "cell_type": "code",
   "execution_count": null,
   "metadata": {},
   "outputs": [],
   "source": [
    "print_factors(28)\n",
    "print_factors(496)\n",
    "print_factors(8128)\n",
    "print_factors(13)\n",
    "print_factors(127)\n",
    "print_factors((2**19-1))\n"
   ]
  },
  {
   "cell_type": "markdown",
   "metadata": {},
   "source": [
    "Modify this function to also calculate the sum of its factors (exclude the number itself from the list of factors)"
   ]
  },
  {
   "cell_type": "code",
   "execution_count": null,
   "metadata": {
    "nbgrader": {
     "grade": true,
     "grade_id": "cell-4df088cd9b8715a8",
     "locked": false,
     "points": 0,
     "schema_version": 2,
     "solution": true
    }
   },
   "outputs": [],
   "source": [
    "def print_factors2(n):\n",
    "    factors = []\n",
    "    for i in range(1,i):\n",
    "        if n % i == 0:\n",
    "            factors.append(i)\n",
    "    print(\"The factors of \"+ str(n) + \" are \" +str(factors))\n",
    "    factorsum = sum(factors[:-1])\n",
    "    print(\"The sum of all factors is \" + str(factorsum))"
   ]
  },
  {
   "cell_type": "markdown",
   "metadata": {},
   "source": [
    "If the sum of factors equals the number itself, then this number is called a *perfect* number. Modify your function, so that it checks for a number being perfect. \n"
   ]
  },
  {
   "cell_type": "code",
   "execution_count": null,
   "metadata": {
    "nbgrader": {
     "grade": true,
     "grade_id": "cell-9de32979eeb8f29e",
     "locked": false,
     "points": 0,
     "schema_version": 2,
     "solution": true
    }
   },
   "outputs": [],
   "source": [
    "def print_factors3(n):\n",
    "    factors = []\n",
    "    for i in range(1,n+1):\n",
    "        if n % i == 0:\n",
    "            factors.append(i)\n",
    "    print(\"The factors of \"+ str(n) + \" are \" +str(factors))\n",
    "    factorsum = sum(factors[:-1])\n",
    "    print(\"The sum of all factors is \" + str(factorsum))\n",
    "    if factorsum == n: \n",
    "        print(\"The number \" + str(n) + \" is perfect!\" )"
   ]
  },
  {
   "cell_type": "markdown",
   "metadata": {},
   "source": [
    "Check that your program recognizes the number 28, 496 and 8128 as perfect numbers. (In case you happen to find an *odd* perfect number, you would have solved one of the oldest problems in number theory. )"
   ]
  },
  {
   "cell_type": "code",
   "execution_count": null,
   "metadata": {
    "nbgrader": {
     "grade": true,
     "grade_id": "cell-2e365d619f605b58",
     "locked": false,
     "points": 0,
     "schema_version": 2,
     "solution": true
    }
   },
   "outputs": [],
   "source": [
    "print_factors3(28)\n",
    "print_factors3(496)\n",
    "print_factors3(8128)"
   ]
  },
  {
   "cell_type": "markdown",
   "metadata": {},
   "source": [
    "Check that $2^{18}(2^{19}-1)$ is a perfect number! (This is slightly more challenging, and can easiliy give a memory error or require a long time to complete. Rethink, how you can calculate the factors of a number. Notice that if you find one factor you get a second one without searching.)"
   ]
  },
  {
   "cell_type": "code",
   "execution_count": null,
   "metadata": {
    "nbgrader": {
     "grade": true,
     "grade_id": "cell-679aca27513c9a91",
     "locked": false,
     "points": 0,
     "schema_version": 2,
     "solution": true
    }
   },
   "outputs": [],
   "source": [
    "def print_factors4(n):\n",
    "    factors = []\n",
    "    for i in range(1,int(n**(0.5))+1):\n",
    "        if n % i == 0:\n",
    "            factors.append(i)\n",
    "            if n // i != i:\n",
    "                factors.append(n // i)\n",
    "    factors = sorted(factors)\n",
    "    print(\"The factors of \"+ str(n) + \" are \" +str(factors))\n",
    "    factorsum = sum(factors[:-1])\n",
    "    print(\"The sum of all factors is \" + str(factorsum))\n",
    "    if factorsum == n: \n",
    "        print(\"The number \" + str(n) + \" is perfect!\" )\n",
    "        \n",
    "print_factors4(2**18*(2**19-1))"
   ]
  },
  {
   "cell_type": "markdown",
   "metadata": {},
   "source": [
    "# Prime numbers\n",
    "\n",
    "A number is a *prime* number, if it can only be divided by itself and the number 1. Write a function `is_prime(n)` which `return`s `True` if a number is prime and `False` if this is not the case. "
   ]
  },
  {
   "cell_type": "code",
   "execution_count": 5,
   "metadata": {
    "nbgrader": {
     "grade": true,
     "grade_id": "cell-44a5b0d61b3535b5",
     "locked": false,
     "points": 0,
     "schema_version": 2,
     "solution": true
    }
   },
   "outputs": [],
   "source": [
    "def is_prime(n):\n",
    "    for i in range(2,int(n**(0.5))+1):\n",
    "        if n % i == 0:\n",
    "            return False\n",
    "    return True\n"
   ]
  },
  {
   "cell_type": "markdown",
   "metadata": {},
   "source": [
    "Check that your program recognizes the numbers 13, 127, and $M_{19} = 2^{19}-1$ as prime numbers and $M_{67} = 2^{67}-1$ as composite. (Numbers of the type $M_p = 2^p-1$ are called *Mersenne* numbers.  They have many interesting properties and connections to perfect numbers. For more reading, see http://primes.utm.edu/mersenne/ )\n"
   ]
  },
  {
   "cell_type": "code",
   "execution_count": 7,
   "metadata": {
    "nbgrader": {
     "grade": true,
     "grade_id": "cell-55a0d49ceb34f02e",
     "locked": false,
     "points": 0,
     "schema_version": 2,
     "solution": true
    }
   },
   "outputs": [
    {
     "data": {
      "text/plain": [
       "(True, True, True, False)"
      ]
     },
     "execution_count": 7,
     "metadata": {},
     "output_type": "execute_result"
    }
   ],
   "source": [
    "is_prime(13),is_prime(127),is_prime(2**19-1),is_prime(2**67-1)"
   ]
  }
 ],
 "metadata": {
  "celltoolbar": "Create Assignment",
  "kernelspec": {
   "display_name": "Python 3",
   "language": "python",
   "name": "python3"
  },
  "language_info": {
   "codemirror_mode": {
    "name": "ipython",
    "version": 3
   },
   "file_extension": ".py",
   "mimetype": "text/x-python",
   "name": "python",
   "nbconvert_exporter": "python",
   "pygments_lexer": "ipython3",
   "version": "3.6.5"
  }
 },
 "nbformat": 4,
 "nbformat_minor": 1
}
