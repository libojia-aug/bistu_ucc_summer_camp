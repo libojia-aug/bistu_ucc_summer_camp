{
 "cells": [
  {
   "cell_type": "code",
   "execution_count": 2,
   "metadata": {},
   "outputs": [],
   "source": [
    "%matplotlib inline\n",
    "import matplotlib.pylab as plt\n",
    "import pandas as pd"
   ]
  },
  {
   "cell_type": "markdown",
   "metadata": {},
   "source": [
    "# Analyse Facebook stock price"
   ]
  },
  {
   "cell_type": "markdown",
   "metadata": {},
   "source": [
    "Obtain the Facebook stock data (symbol FB, URL: https://stooq.com/q/d/l/?s=FB.US&i=d) and print the last 10 trading dates. "
   ]
  },
  {
   "cell_type": "code",
   "execution_count": 12,
   "metadata": {
    "nbgrader": {
     "grade": true,
     "grade_id": "cell-cc4f59560d366228",
     "locked": false,
     "points": 0,
     "schema_version": 2,
     "solution": true
    }
   },
   "outputs": [
    {
     "data": {
      "text/html": [
       "<div>\n",
       "<style scoped>\n",
       "    .dataframe tbody tr th:only-of-type {\n",
       "        vertical-align: middle;\n",
       "    }\n",
       "\n",
       "    .dataframe tbody tr th {\n",
       "        vertical-align: top;\n",
       "    }\n",
       "\n",
       "    .dataframe thead th {\n",
       "        text-align: right;\n",
       "    }\n",
       "</style>\n",
       "<table border=\"1\" class=\"dataframe\">\n",
       "  <thead>\n",
       "    <tr style=\"text-align: right;\">\n",
       "      <th></th>\n",
       "      <th>Open</th>\n",
       "      <th>High</th>\n",
       "      <th>Low</th>\n",
       "      <th>Close</th>\n",
       "      <th>Volume</th>\n",
       "    </tr>\n",
       "    <tr>\n",
       "      <th>Date</th>\n",
       "      <th></th>\n",
       "      <th></th>\n",
       "      <th></th>\n",
       "      <th></th>\n",
       "      <th></th>\n",
       "    </tr>\n",
       "  </thead>\n",
       "  <tbody>\n",
       "    <tr>\n",
       "      <th>2018-07-16</th>\n",
       "      <td>207.500</td>\n",
       "      <td>208.72</td>\n",
       "      <td>206.84</td>\n",
       "      <td>207.23</td>\n",
       "      <td>11078209</td>\n",
       "    </tr>\n",
       "    <tr>\n",
       "      <th>2018-07-17</th>\n",
       "      <td>204.900</td>\n",
       "      <td>210.46</td>\n",
       "      <td>204.84</td>\n",
       "      <td>209.99</td>\n",
       "      <td>15349892</td>\n",
       "    </tr>\n",
       "    <tr>\n",
       "      <th>2018-07-18</th>\n",
       "      <td>209.820</td>\n",
       "      <td>210.99</td>\n",
       "      <td>208.44</td>\n",
       "      <td>209.36</td>\n",
       "      <td>15334907</td>\n",
       "    </tr>\n",
       "    <tr>\n",
       "      <th>2018-07-19</th>\n",
       "      <td>208.770</td>\n",
       "      <td>209.99</td>\n",
       "      <td>207.76</td>\n",
       "      <td>208.09</td>\n",
       "      <td>11350429</td>\n",
       "    </tr>\n",
       "    <tr>\n",
       "      <th>2018-07-20</th>\n",
       "      <td>208.850</td>\n",
       "      <td>211.50</td>\n",
       "      <td>208.50</td>\n",
       "      <td>209.94</td>\n",
       "      <td>16241508</td>\n",
       "    </tr>\n",
       "    <tr>\n",
       "      <th>2018-07-23</th>\n",
       "      <td>210.580</td>\n",
       "      <td>211.62</td>\n",
       "      <td>208.80</td>\n",
       "      <td>210.91</td>\n",
       "      <td>16731969</td>\n",
       "    </tr>\n",
       "    <tr>\n",
       "      <th>2018-07-24</th>\n",
       "      <td>215.110</td>\n",
       "      <td>216.20</td>\n",
       "      <td>212.60</td>\n",
       "      <td>214.67</td>\n",
       "      <td>28468681</td>\n",
       "    </tr>\n",
       "    <tr>\n",
       "      <th>2018-07-25</th>\n",
       "      <td>215.715</td>\n",
       "      <td>218.62</td>\n",
       "      <td>214.27</td>\n",
       "      <td>217.50</td>\n",
       "      <td>64592585</td>\n",
       "    </tr>\n",
       "    <tr>\n",
       "      <th>2018-07-26</th>\n",
       "      <td>174.890</td>\n",
       "      <td>180.13</td>\n",
       "      <td>173.75</td>\n",
       "      <td>176.26</td>\n",
       "      <td>169803668</td>\n",
       "    </tr>\n",
       "    <tr>\n",
       "      <th>2018-07-27</th>\n",
       "      <td>179.870</td>\n",
       "      <td>179.93</td>\n",
       "      <td>173.00</td>\n",
       "      <td>174.89</td>\n",
       "      <td>60073749</td>\n",
       "    </tr>\n",
       "  </tbody>\n",
       "</table>\n",
       "</div>"
      ],
      "text/plain": [
       "               Open    High     Low   Close     Volume\n",
       "Date                                                  \n",
       "2018-07-16  207.500  208.72  206.84  207.23   11078209\n",
       "2018-07-17  204.900  210.46  204.84  209.99   15349892\n",
       "2018-07-18  209.820  210.99  208.44  209.36   15334907\n",
       "2018-07-19  208.770  209.99  207.76  208.09   11350429\n",
       "2018-07-20  208.850  211.50  208.50  209.94   16241508\n",
       "2018-07-23  210.580  211.62  208.80  210.91   16731969\n",
       "2018-07-24  215.110  216.20  212.60  214.67   28468681\n",
       "2018-07-25  215.715  218.62  214.27  217.50   64592585\n",
       "2018-07-26  174.890  180.13  173.75  176.26  169803668\n",
       "2018-07-27  179.870  179.93  173.00  174.89   60073749"
      ]
     },
     "execution_count": 12,
     "metadata": {},
     "output_type": "execute_result"
    }
   ],
   "source": [
    "fb = pd.read_csv(\"https://stooq.com/q/d/l/?s=FB.US&i=d\",index_col=\"Date\",parse_dates=[\"Date\"])\n",
    "fb.tail(10)"
   ]
  },
  {
   "cell_type": "markdown",
   "metadata": {},
   "source": [
    "Create a new column `avgOC`, which is the average between the open and close price for each day. Plot this column, together with the \"Low\" and \"High\" column since June 2018. "
   ]
  },
  {
   "cell_type": "code",
   "execution_count": 17,
   "metadata": {
    "nbgrader": {
     "grade": true,
     "grade_id": "cell-d42fc31ae388b1e1",
     "locked": false,
     "points": 0,
     "schema_version": 2,
     "solution": true
    }
   },
   "outputs": [
    {
     "data": {
      "text/plain": [
       "<matplotlib.axes._subplots.AxesSubplot at 0x1729a7c2a20>"
      ]
     },
     "execution_count": 17,
     "metadata": {},
     "output_type": "execute_result"
    },
    {
     "data": {
      "image/png": "[encoded data removed]",
      "text/plain": [
       "<Figure size 432x288 with 1 Axes>"
      ]
     },
     "metadata": {},
     "output_type": "display_data"
    }
   ],
   "source": [
    "fb[\"avgOC\"] = (fb[\"Open\"] + fb[\"Close\"])/2\n",
    "fb[\"2018-06\":].plot(y=[\"avgOC\",\"High\", \"Low\"])"
   ]
  },
  {
   "cell_type": "markdown",
   "metadata": {},
   "source": [
    "How often was the Close price larger than, smaller than or equal to the Open price?"
   ]
  },
  {
   "cell_type": "code",
   "execution_count": 5,
   "metadata": {
    "nbgrader": {
     "grade": true,
     "grade_id": "cell-302263a9344dfd0f",
     "locked": false,
     "points": 0,
     "schema_version": 2,
     "solution": true
    }
   },
   "outputs": [
    {
     "data": {
      "text/plain": [
       "(785, 768, 5)"
      ]
     },
     "execution_count": 5,
     "metadata": {},
     "output_type": "execute_result"
    }
   ],
   "source": [
    " sum( fb[\"Close\"] > fb[\"Open\"] ), sum( fb[\"Close\"] < fb[\"Open\"] ), sum( fb[\"Close\"] == fb[\"Open\"] )"
   ]
  },
  {
   "cell_type": "markdown",
   "metadata": {},
   "source": [
    "# Compare with Apple\n",
    "\n",
    "Now compare the Facebook with the Apple stock price. \n",
    "\n",
    "On how many days did the Close price of Facebook go up and the one of Apple go down?"
   ]
  },
  {
   "cell_type": "code",
   "execution_count": 13,
   "metadata": {
    "nbgrader": {
     "grade": true,
     "grade_id": "cell-31f40a798be347c5",
     "locked": false,
     "points": 0,
     "schema_version": 2,
     "solution": true
    }
   },
   "outputs": [
    {
     "data": {
      "text/plain": [
       "298"
      ]
     },
     "execution_count": 13,
     "metadata": {},
     "output_type": "execute_result"
    }
   ],
   "source": [
    "apple = pd.read_csv(\"https://stooq.com/q/d/l/?s=AAPL.US&i=d\",index_col=\"Date\",parse_dates=[\"Date\"])\n",
    "\n",
    "adown = apple[\"Close\"].pct_change() < 0\n",
    "fbup = fb[\"Close\"].pct_change() > 0\n",
    "fbup.tail()\n",
    "sum(adown & fbup)"
   ]
  },
  {
   "cell_type": "markdown",
   "metadata": {},
   "source": [
    "Calculate the correlation coefficient between the percentage change of the Close prices for Apple and Facebook"
   ]
  },
  {
   "cell_type": "code",
   "execution_count": 7,
   "metadata": {
    "nbgrader": {
     "grade": true,
     "grade_id": "cell-18756a8c70a4ac08",
     "locked": false,
     "points": 0,
     "schema_version": 2,
     "solution": true
    }
   },
   "outputs": [
    {
     "data": {
      "text/html": [
       "<div>\n",
       "<style scoped>\n",
       "    .dataframe tbody tr th:only-of-type {\n",
       "        vertical-align: middle;\n",
       "    }\n",
       "\n",
       "    .dataframe tbody tr th {\n",
       "        vertical-align: top;\n",
       "    }\n",
       "\n",
       "    .dataframe thead th {\n",
       "        text-align: right;\n",
       "    }\n",
       "</style>\n",
       "<table border=\"1\" class=\"dataframe\">\n",
       "  <thead>\n",
       "    <tr style=\"text-align: right;\">\n",
       "      <th></th>\n",
       "      <th>AAPLpct</th>\n",
       "      <th>FBpct</th>\n",
       "    </tr>\n",
       "  </thead>\n",
       "  <tbody>\n",
       "    <tr>\n",
       "      <th>AAPLpct</th>\n",
       "      <td>1.000000</td>\n",
       "      <td>0.237696</td>\n",
       "    </tr>\n",
       "    <tr>\n",
       "      <th>FBpct</th>\n",
       "      <td>0.237696</td>\n",
       "      <td>1.000000</td>\n",
       "    </tr>\n",
       "  </tbody>\n",
       "</table>\n",
       "</div>"
      ],
      "text/plain": [
       "          AAPLpct     FBpct\n",
       "AAPLpct  1.000000  0.237696\n",
       "FBpct    0.237696  1.000000"
      ]
     },
     "execution_count": 7,
     "metadata": {},
     "output_type": "execute_result"
    }
   ],
   "source": [
    "pivot = pd.DataFrame()\n",
    "pivot[\"AAPLpct\"] = apple[\"Close\"].pct_change()\n",
    "pivot[\"FBpct\"] = fb[\"Close\"].pct_change()\n",
    "\n",
    "pivot.corr()"
   ]
  },
  {
   "cell_type": "code",
   "execution_count": 15,
   "metadata": {},
   "outputs": [
    {
     "data": {
      "text/html": [
       "<div>\n",
       "<style scoped>\n",
       "    .dataframe tbody tr th:only-of-type {\n",
       "        vertical-align: middle;\n",
       "    }\n",
       "\n",
       "    .dataframe tbody tr th {\n",
       "        vertical-align: top;\n",
       "    }\n",
       "\n",
       "    .dataframe thead th {\n",
       "        text-align: right;\n",
       "    }\n",
       "</style>\n",
       "<table border=\"1\" class=\"dataframe\">\n",
       "  <thead>\n",
       "    <tr style=\"text-align: right;\">\n",
       "      <th></th>\n",
       "      <th>AAPLpct</th>\n",
       "      <th>FBpct</th>\n",
       "    </tr>\n",
       "    <tr>\n",
       "      <th>Date</th>\n",
       "      <th></th>\n",
       "      <th></th>\n",
       "    </tr>\n",
       "  </thead>\n",
       "  <tbody>\n",
       "    <tr>\n",
       "      <th>2018-07-16</th>\n",
       "      <td>-0.002195</td>\n",
       "      <td>-0.000434</td>\n",
       "    </tr>\n",
       "    <tr>\n",
       "      <th>2018-07-17</th>\n",
       "      <td>0.002829</td>\n",
       "      <td>0.013319</td>\n",
       "    </tr>\n",
       "    <tr>\n",
       "      <th>2018-07-18</th>\n",
       "      <td>-0.005484</td>\n",
       "      <td>-0.003000</td>\n",
       "    </tr>\n",
       "    <tr>\n",
       "      <th>2018-07-19</th>\n",
       "      <td>0.007773</td>\n",
       "      <td>-0.006066</td>\n",
       "    </tr>\n",
       "    <tr>\n",
       "      <th>2018-07-20</th>\n",
       "      <td>-0.002293</td>\n",
       "      <td>0.008890</td>\n",
       "    </tr>\n",
       "    <tr>\n",
       "      <th>2018-07-23</th>\n",
       "      <td>0.000888</td>\n",
       "      <td>0.004620</td>\n",
       "    </tr>\n",
       "    <tr>\n",
       "      <th>2018-07-24</th>\n",
       "      <td>0.007254</td>\n",
       "      <td>0.017828</td>\n",
       "    </tr>\n",
       "    <tr>\n",
       "      <th>2018-07-25</th>\n",
       "      <td>0.009430</td>\n",
       "      <td>0.013183</td>\n",
       "    </tr>\n",
       "    <tr>\n",
       "      <th>2018-07-26</th>\n",
       "      <td>-0.003131</td>\n",
       "      <td>-0.189609</td>\n",
       "    </tr>\n",
       "    <tr>\n",
       "      <th>2018-07-27</th>\n",
       "      <td>-0.016631</td>\n",
       "      <td>-0.007773</td>\n",
       "    </tr>\n",
       "  </tbody>\n",
       "</table>\n",
       "</div>"
      ],
      "text/plain": [
       "             AAPLpct     FBpct\n",
       "Date                          \n",
       "2018-07-16 -0.002195 -0.000434\n",
       "2018-07-17  0.002829  0.013319\n",
       "2018-07-18 -0.005484 -0.003000\n",
       "2018-07-19  0.007773 -0.006066\n",
       "2018-07-20 -0.002293  0.008890\n",
       "2018-07-23  0.000888  0.004620\n",
       "2018-07-24  0.007254  0.017828\n",
       "2018-07-25  0.009430  0.013183\n",
       "2018-07-26 -0.003131 -0.189609\n",
       "2018-07-27 -0.016631 -0.007773"
      ]
     },
     "execution_count": 15,
     "metadata": {},
     "output_type": "execute_result"
    }
   ],
   "source": [
    "pivot.tail(10)"
   ]
  }
 ],
 "metadata": {
  "celltoolbar": "Create Assignment",
  "kernelspec": {
   "display_name": "Python 3",
   "language": "python",
   "name": "python3"
  },
  "language_info": {
   "codemirror_mode": {
    "name": "ipython",
    "version": 3
   },
   "file_extension": ".py",
   "mimetype": "text/x-python",
   "name": "python",
   "nbconvert_exporter": "python",
   "pygments_lexer": "ipython3",
   "version": "3.6.5"
  }
 },
 "nbformat": 4,
 "nbformat_minor": 1
}
